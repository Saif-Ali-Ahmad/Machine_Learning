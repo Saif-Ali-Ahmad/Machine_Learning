{
 "cells": [
  {
   "cell_type": "markdown",
   "id": "31ec5c1e",
   "metadata": {},
   "source": [
    "># Text Classification Model For Classifying Hate Speech & Offensive Language.\n",
    ">>##### By - Saif Ali Ahmad\n",
    "<b>Discription about dataset </b> -  There’s no shortage of hate speech online. This text classification dataset features hate-speech gathered from Twitter. It has been classified as either containing hate-speech, only offensive language, or neither. Do note that this data contains offensive content, none of which we endorse outside of the value it presents to anyone training a model.<br><br>\n",
    "Dataset Details : There are 24,782 Tweets.These Tweets are classified as Hate Speech, Offensive Language and Neither.<br><br> \n",
    "<b>Dataset is stored in CSV format. Details of data attributes are given below:</b><br><br>count = number of CrowdFlower users who coded each tweet (min is 3, sometimes more users coded a tweet when judgments were determined to be unreliable by CF).<br><br>hate_speech = number of CF users who judged the tweet to be hate speech.<br><br>offensive_language = number of CF users who judged the tweet to be offensive.<br><br>neither = number of CF users who judged the tweet to be neither offensive nor non-offensive.<br><br>class = class label for majority of CF users. 0 - hate speech 1 - offensive language 2 - neither<br><br>\n",
    "\n",
    ">URL for data set - https://github.com/t-davidson/hate-speech-and-offensive-language/tree/master/data"
   ]
  },
  {
   "cell_type": "code",
   "execution_count": 1,
   "id": "59e91962",
   "metadata": {},
   "outputs": [],
   "source": [
    "# Importing important libraries\n",
    "import pandas as pd\n",
    "import numpy  as np\n",
    "import os\n",
    "import re\n",
    "import nltk\n",
    "from sklearn.utils import resample\n",
    "from sklearn.metrics import confusion_matrix,accuracy_score\n",
    "import matplotlib.pyplot as plt\n",
    "plt.style.use('ggplot')\n",
    "import seaborn as sns"
   ]
  },
  {
   "cell_type": "code",
   "execution_count": 2,
   "id": "38b13dae",
   "metadata": {},
   "outputs": [
    {
     "data": {
      "text/plain": [
       "'D:\\\\NLP\\\\Text Classification Model For Classifying Hate Speech & Offensive Language'"
      ]
     },
     "execution_count": 2,
     "metadata": {},
     "output_type": "execute_result"
    }
   ],
   "source": [
    "# Changing the working directory\n",
    "os.chdir(\"D:\\\\NLP\\\\Text Classification Model For Classifying Hate Speech & Offensive Language\")\n",
    "os.getcwd()"
   ]
  },
  {
   "cell_type": "code",
   "execution_count": 3,
   "id": "9d878983",
   "metadata": {},
   "outputs": [
    {
     "data": {
      "text/html": [
       "<div>\n",
       "<style scoped>\n",
       "    .dataframe tbody tr th:only-of-type {\n",
       "        vertical-align: middle;\n",
       "    }\n",
       "\n",
       "    .dataframe tbody tr th {\n",
       "        vertical-align: top;\n",
       "    }\n",
       "\n",
       "    .dataframe thead th {\n",
       "        text-align: right;\n",
       "    }\n",
       "</style>\n",
       "<table border=\"1\" class=\"dataframe\">\n",
       "  <thead>\n",
       "    <tr style=\"text-align: right;\">\n",
       "      <th></th>\n",
       "      <th>Unnamed: 0</th>\n",
       "      <th>count</th>\n",
       "      <th>hate_speech</th>\n",
       "      <th>offensive_language</th>\n",
       "      <th>neither</th>\n",
       "      <th>class</th>\n",
       "      <th>tweet</th>\n",
       "    </tr>\n",
       "  </thead>\n",
       "  <tbody>\n",
       "    <tr>\n",
       "      <th>0</th>\n",
       "      <td>0</td>\n",
       "      <td>3</td>\n",
       "      <td>0</td>\n",
       "      <td>0</td>\n",
       "      <td>3</td>\n",
       "      <td>2</td>\n",
       "      <td>!!! RT @mayasolovely: As a woman you shouldn't...</td>\n",
       "    </tr>\n",
       "    <tr>\n",
       "      <th>1</th>\n",
       "      <td>1</td>\n",
       "      <td>3</td>\n",
       "      <td>0</td>\n",
       "      <td>3</td>\n",
       "      <td>0</td>\n",
       "      <td>1</td>\n",
       "      <td>!!!!! RT @mleew17: boy dats cold...tyga dwn ba...</td>\n",
       "    </tr>\n",
       "    <tr>\n",
       "      <th>2</th>\n",
       "      <td>2</td>\n",
       "      <td>3</td>\n",
       "      <td>0</td>\n",
       "      <td>3</td>\n",
       "      <td>0</td>\n",
       "      <td>1</td>\n",
       "      <td>!!!!!!! RT @UrKindOfBrand Dawg!!!! RT @80sbaby...</td>\n",
       "    </tr>\n",
       "    <tr>\n",
       "      <th>3</th>\n",
       "      <td>3</td>\n",
       "      <td>3</td>\n",
       "      <td>0</td>\n",
       "      <td>2</td>\n",
       "      <td>1</td>\n",
       "      <td>1</td>\n",
       "      <td>!!!!!!!!! RT @C_G_Anderson: @viva_based she lo...</td>\n",
       "    </tr>\n",
       "    <tr>\n",
       "      <th>4</th>\n",
       "      <td>4</td>\n",
       "      <td>6</td>\n",
       "      <td>0</td>\n",
       "      <td>6</td>\n",
       "      <td>0</td>\n",
       "      <td>1</td>\n",
       "      <td>!!!!!!!!!!!!! RT @ShenikaRoberts: The shit you...</td>\n",
       "    </tr>\n",
       "  </tbody>\n",
       "</table>\n",
       "</div>"
      ],
      "text/plain": [
       "   Unnamed: 0  count  hate_speech  offensive_language  neither  class  \\\n",
       "0           0      3            0                   0        3      2   \n",
       "1           1      3            0                   3        0      1   \n",
       "2           2      3            0                   3        0      1   \n",
       "3           3      3            0                   2        1      1   \n",
       "4           4      6            0                   6        0      1   \n",
       "\n",
       "                                               tweet  \n",
       "0  !!! RT @mayasolovely: As a woman you shouldn't...  \n",
       "1  !!!!! RT @mleew17: boy dats cold...tyga dwn ba...  \n",
       "2  !!!!!!! RT @UrKindOfBrand Dawg!!!! RT @80sbaby...  \n",
       "3  !!!!!!!!! RT @C_G_Anderson: @viva_based she lo...  \n",
       "4  !!!!!!!!!!!!! RT @ShenikaRoberts: The shit you...  "
      ]
     },
     "execution_count": 3,
     "metadata": {},
     "output_type": "execute_result"
    }
   ],
   "source": [
    "# loading the dataset\n",
    "data = pd.read_csv(filepath_or_buffer=r\"Hate Speech & Offensive Language.csv\")\n",
    "data.head()"
   ]
  },
  {
   "cell_type": "code",
   "execution_count": 4,
   "id": "0c3d1122",
   "metadata": {},
   "outputs": [
    {
     "name": "stdout",
     "output_type": "stream",
     "text": [
      "<class 'pandas.core.frame.DataFrame'>\n",
      "RangeIndex: 24783 entries, 0 to 24782\n",
      "Data columns (total 7 columns):\n",
      " #   Column              Non-Null Count  Dtype \n",
      "---  ------              --------------  ----- \n",
      " 0   Unnamed: 0          24783 non-null  int64 \n",
      " 1   count               24783 non-null  int64 \n",
      " 2   hate_speech         24783 non-null  int64 \n",
      " 3   offensive_language  24783 non-null  int64 \n",
      " 4   neither             24783 non-null  int64 \n",
      " 5   class               24783 non-null  int64 \n",
      " 6   tweet               24783 non-null  object\n",
      "dtypes: int64(6), object(1)\n",
      "memory usage: 1.3+ MB\n"
     ]
    }
   ],
   "source": [
    "# displaying information about attributes\n",
    "data.info()"
   ]
  },
  {
   "cell_type": "code",
   "execution_count": 5,
   "id": "b83a0a38",
   "metadata": {},
   "outputs": [
    {
     "data": {
      "text/html": [
       "<div>\n",
       "<style scoped>\n",
       "    .dataframe tbody tr th:only-of-type {\n",
       "        vertical-align: middle;\n",
       "    }\n",
       "\n",
       "    .dataframe tbody tr th {\n",
       "        vertical-align: top;\n",
       "    }\n",
       "\n",
       "    .dataframe thead th {\n",
       "        text-align: right;\n",
       "    }\n",
       "</style>\n",
       "<table border=\"1\" class=\"dataframe\">\n",
       "  <thead>\n",
       "    <tr style=\"text-align: right;\">\n",
       "      <th></th>\n",
       "      <th>speech_class</th>\n",
       "      <th>tweet</th>\n",
       "    </tr>\n",
       "  </thead>\n",
       "  <tbody>\n",
       "    <tr>\n",
       "      <th>0</th>\n",
       "      <td>2</td>\n",
       "      <td>!!! RT @mayasolovely: As a woman you shouldn't...</td>\n",
       "    </tr>\n",
       "    <tr>\n",
       "      <th>1</th>\n",
       "      <td>1</td>\n",
       "      <td>!!!!! RT @mleew17: boy dats cold...tyga dwn ba...</td>\n",
       "    </tr>\n",
       "    <tr>\n",
       "      <th>2</th>\n",
       "      <td>1</td>\n",
       "      <td>!!!!!!! RT @UrKindOfBrand Dawg!!!! RT @80sbaby...</td>\n",
       "    </tr>\n",
       "    <tr>\n",
       "      <th>3</th>\n",
       "      <td>1</td>\n",
       "      <td>!!!!!!!!! RT @C_G_Anderson: @viva_based she lo...</td>\n",
       "    </tr>\n",
       "    <tr>\n",
       "      <th>4</th>\n",
       "      <td>1</td>\n",
       "      <td>!!!!!!!!!!!!! RT @ShenikaRoberts: The shit you...</td>\n",
       "    </tr>\n",
       "  </tbody>\n",
       "</table>\n",
       "</div>"
      ],
      "text/plain": [
       "   speech_class                                              tweet\n",
       "0             2  !!! RT @mayasolovely: As a woman you shouldn't...\n",
       "1             1  !!!!! RT @mleew17: boy dats cold...tyga dwn ba...\n",
       "2             1  !!!!!!! RT @UrKindOfBrand Dawg!!!! RT @80sbaby...\n",
       "3             1  !!!!!!!!! RT @C_G_Anderson: @viva_based she lo...\n",
       "4             1  !!!!!!!!!!!!! RT @ShenikaRoberts: The shit you..."
      ]
     },
     "execution_count": 5,
     "metadata": {},
     "output_type": "execute_result"
    }
   ],
   "source": [
    "# Dropping columns not relevant for text classification\n",
    "data.drop(columns=['Unnamed: 0', 'count', 'hate_speech', \n",
    "                   'offensive_language', 'neither'],inplace =True)\n",
    "# Renaming column \"class\" as \"speech_class\"\n",
    "data.rename(columns = {'class': 'speech_class'},inplace=True)\n",
    "data.head()"
   ]
  },
  {
   "cell_type": "code",
   "execution_count": 6,
   "id": "75367ddb",
   "metadata": {},
   "outputs": [],
   "source": [
    "# Defining dictionary for mapping speech_class\n",
    "class_dict = {0: \"hate_speech\", 1:\"offensive_language\", 2: \"neither\"}"
   ]
  },
  {
   "cell_type": "code",
   "execution_count": 7,
   "id": "a4b34fb0",
   "metadata": {},
   "outputs": [
    {
     "data": {
      "text/html": [
       "<div>\n",
       "<style scoped>\n",
       "    .dataframe tbody tr th:only-of-type {\n",
       "        vertical-align: middle;\n",
       "    }\n",
       "\n",
       "    .dataframe tbody tr th {\n",
       "        vertical-align: top;\n",
       "    }\n",
       "\n",
       "    .dataframe thead th {\n",
       "        text-align: right;\n",
       "    }\n",
       "</style>\n",
       "<table border=\"1\" class=\"dataframe\">\n",
       "  <thead>\n",
       "    <tr style=\"text-align: right;\">\n",
       "      <th></th>\n",
       "      <th>speech_class</th>\n",
       "      <th>tweet</th>\n",
       "    </tr>\n",
       "  </thead>\n",
       "  <tbody>\n",
       "    <tr>\n",
       "      <th>0</th>\n",
       "      <td>neither</td>\n",
       "      <td>!!! RT @mayasolovely: As a woman you shouldn't...</td>\n",
       "    </tr>\n",
       "    <tr>\n",
       "      <th>1</th>\n",
       "      <td>offensive_language</td>\n",
       "      <td>!!!!! RT @mleew17: boy dats cold...tyga dwn ba...</td>\n",
       "    </tr>\n",
       "    <tr>\n",
       "      <th>2</th>\n",
       "      <td>offensive_language</td>\n",
       "      <td>!!!!!!! RT @UrKindOfBrand Dawg!!!! RT @80sbaby...</td>\n",
       "    </tr>\n",
       "    <tr>\n",
       "      <th>3</th>\n",
       "      <td>offensive_language</td>\n",
       "      <td>!!!!!!!!! RT @C_G_Anderson: @viva_based she lo...</td>\n",
       "    </tr>\n",
       "    <tr>\n",
       "      <th>4</th>\n",
       "      <td>offensive_language</td>\n",
       "      <td>!!!!!!!!!!!!! RT @ShenikaRoberts: The shit you...</td>\n",
       "    </tr>\n",
       "  </tbody>\n",
       "</table>\n",
       "</div>"
      ],
      "text/plain": [
       "         speech_class                                              tweet\n",
       "0             neither  !!! RT @mayasolovely: As a woman you shouldn't...\n",
       "1  offensive_language  !!!!! RT @mleew17: boy dats cold...tyga dwn ba...\n",
       "2  offensive_language  !!!!!!! RT @UrKindOfBrand Dawg!!!! RT @80sbaby...\n",
       "3  offensive_language  !!!!!!!!! RT @C_G_Anderson: @viva_based she lo...\n",
       "4  offensive_language  !!!!!!!!!!!!! RT @ShenikaRoberts: The shit you..."
      ]
     },
     "execution_count": 7,
     "metadata": {},
     "output_type": "execute_result"
    }
   ],
   "source": [
    "# Mapping speech_class labels using class_dict\n",
    "data['speech_class'] = data['speech_class'].map(class_dict)\n",
    "data.head()"
   ]
  },
  {
   "cell_type": "markdown",
   "id": "a2b7ac7a",
   "metadata": {},
   "source": [
    ">## Creating Function For Pre-processing the Tweets"
   ]
  },
  {
   "cell_type": "code",
   "execution_count": 8,
   "id": "7cabc464",
   "metadata": {},
   "outputs": [],
   "source": [
    "# Creating function for pre-processing the tweets using Regular Expressions\n",
    "\n",
    "def processing_tweets(tweet):\n",
    "    tweet = re.sub(r'\"','',tweet)\n",
    "    tweet = re.sub(r'\\sRT\\s','',tweet)\n",
    "    \n",
    "    tweet = re.sub(r\"^https://t.co/[a-zA-Z0-9]*\\s\", \" \", tweet)\n",
    "    tweet = re.sub(r\"\\s+https://t.co/[a-zA-Z0-9]*\\s\", \" \", tweet)\n",
    "    tweet = re.sub(r\"\\s+https://t.co/[a-zA-Z0-9]*$\", \" \", tweet)\n",
    "    tweet = re.sub(r\"^http://t.co/[a-zA-Z0-9]*\\s\", \" \", tweet)\n",
    "    tweet = re.sub(r\"\\s+http://t.co/[a-zA-Z0-9]*\\s\", \" \", tweet)\n",
    "    tweet = re.sub(r\"\\s+http://t.co/[a-zA-Z0-9]*$\", \" \", tweet)\n",
    "    \n",
    "    tweet = re.sub(\"@[A-Za-z0-9_:]+\",\" \", tweet)\n",
    "    tweet = re.sub(\"#[A-Za-z0-9_:]+\",\" \", tweet)\n",
    "    \n",
    "    tweet = tweet.lower()\n",
    "    tweet = re.sub(r\"that's\",\"that is\",tweet)\n",
    "    tweet = re.sub(r\"there's\",\"there is\",tweet)\n",
    "    tweet = re.sub(r\"what's\",\"what is\",tweet)\n",
    "    tweet = re.sub(r\"where's\",\"where is\",tweet)\n",
    "    tweet = re.sub(r\"it's\",\"it is\",tweet)\n",
    "    tweet = re.sub(r\"who's\",\"who is\",tweet)\n",
    "    tweet = re.sub(r\"i'm\",\"i am\",tweet)\n",
    "    tweet = re.sub(r\"she's\",\"she is\",tweet)\n",
    "    tweet = re.sub(r\"he's\",\"he is\",tweet)\n",
    "    tweet = re.sub(r\"they're\",\"they are\",tweet)\n",
    "    tweet = re.sub(r\"who're\",\"who are\",tweet)\n",
    "    tweet = re.sub(r\"ain't\",\"am not\",tweet)\n",
    "    tweet = re.sub(r\"aint\",\"am not\",tweet)\n",
    "    tweet = re.sub(r\"wouldn't\",\"would not\",tweet)\n",
    "    tweet = re.sub(r\"shouldn't\",\"should not\",tweet)\n",
    "    tweet = re.sub(r\"can't\",\"can not\",tweet)\n",
    "    tweet = re.sub(r\"don't\",\"do not\",tweet)\n",
    "    tweet = re.sub(r\"didn't\",\"did not\",tweet)\n",
    "    tweet = re.sub(r\"couldn't\",\"could not\",tweet)\n",
    "    tweet = re.sub(r\"won't\",\"will not\",tweet)\n",
    "    tweet = re.sub(r\"\\W\",\" \",tweet)\n",
    "    tweet = re.sub(r\"\\d\",\" \",tweet)\n",
    "    tweet = re.sub(r\"\\s+[a-z]\\s+\",\" \",tweet)\n",
    "    tweet = re.sub(r\"\\s+[a-z]$\",\" \",tweet)\n",
    "    tweet = re.sub(r\"^[a-z]\\s+\",\" \",tweet)\n",
    "    tweet = re.sub(r\"\\s+\",\" \",tweet)\n",
    "    \n",
    "    return tweet"
   ]
  },
  {
   "cell_type": "markdown",
   "id": "48f42a4f",
   "metadata": {},
   "source": [
    ">## Pre-processing the Tweets"
   ]
  },
  {
   "cell_type": "code",
   "execution_count": 9,
   "id": "caaf8d39",
   "metadata": {},
   "outputs": [],
   "source": [
    "# applying the the function processing_tweets on tweets\n",
    "for i in range(data.shape[0]):\n",
    "    data.iloc[i,1] = processing_tweets(data.iloc[i,1]) "
   ]
  },
  {
   "cell_type": "code",
   "execution_count": 10,
   "id": "9604b801",
   "metadata": {},
   "outputs": [
    {
     "data": {
      "text/html": [
       "<div>\n",
       "<style scoped>\n",
       "    .dataframe tbody tr th:only-of-type {\n",
       "        vertical-align: middle;\n",
       "    }\n",
       "\n",
       "    .dataframe tbody tr th {\n",
       "        vertical-align: top;\n",
       "    }\n",
       "\n",
       "    .dataframe thead th {\n",
       "        text-align: right;\n",
       "    }\n",
       "</style>\n",
       "<table border=\"1\" class=\"dataframe\">\n",
       "  <thead>\n",
       "    <tr style=\"text-align: right;\">\n",
       "      <th></th>\n",
       "      <th>speech_class</th>\n",
       "      <th>tweet</th>\n",
       "    </tr>\n",
       "  </thead>\n",
       "  <tbody>\n",
       "    <tr>\n",
       "      <th>0</th>\n",
       "      <td>neither</td>\n",
       "      <td>as woman you should not complain about cleani...</td>\n",
       "    </tr>\n",
       "    <tr>\n",
       "      <th>1</th>\n",
       "      <td>offensive_language</td>\n",
       "      <td>boy dats cold tyga dwn bad for cuffin dat hoe...</td>\n",
       "    </tr>\n",
       "    <tr>\n",
       "      <th>2</th>\n",
       "      <td>offensive_language</td>\n",
       "      <td>dawg you ever fuck bitch and she start to cry...</td>\n",
       "    </tr>\n",
       "    <tr>\n",
       "      <th>3</th>\n",
       "      <td>offensive_language</td>\n",
       "      <td>she look like tranny</td>\n",
       "    </tr>\n",
       "    <tr>\n",
       "      <th>4</th>\n",
       "      <td>offensive_language</td>\n",
       "      <td>the shit you hear about me might be true or i...</td>\n",
       "    </tr>\n",
       "    <tr>\n",
       "      <th>5</th>\n",
       "      <td>offensive_language</td>\n",
       "      <td>the shit just blows me claim you so faithful ...</td>\n",
       "    </tr>\n",
       "    <tr>\n",
       "      <th>6</th>\n",
       "      <td>offensive_language</td>\n",
       "      <td>can not just sit up and hate on another bitch...</td>\n",
       "    </tr>\n",
       "    <tr>\n",
       "      <th>7</th>\n",
       "      <td>offensive_language</td>\n",
       "      <td>cause am tired of you big bitches coming for ...</td>\n",
       "    </tr>\n",
       "    <tr>\n",
       "      <th>8</th>\n",
       "      <td>offensive_language</td>\n",
       "      <td>amp you might not get ya bitch back amp thats...</td>\n",
       "    </tr>\n",
       "    <tr>\n",
       "      <th>9</th>\n",
       "      <td>offensive_language</td>\n",
       "      <td>hobbies include fighting mariam bitch</td>\n",
       "    </tr>\n",
       "  </tbody>\n",
       "</table>\n",
       "</div>"
      ],
      "text/plain": [
       "         speech_class                                              tweet\n",
       "0             neither   as woman you should not complain about cleani...\n",
       "1  offensive_language   boy dats cold tyga dwn bad for cuffin dat hoe...\n",
       "2  offensive_language   dawg you ever fuck bitch and she start to cry...\n",
       "3  offensive_language                               she look like tranny\n",
       "4  offensive_language   the shit you hear about me might be true or i...\n",
       "5  offensive_language   the shit just blows me claim you so faithful ...\n",
       "6  offensive_language   can not just sit up and hate on another bitch...\n",
       "7  offensive_language   cause am tired of you big bitches coming for ...\n",
       "8  offensive_language   amp you might not get ya bitch back amp thats...\n",
       "9  offensive_language              hobbies include fighting mariam bitch"
      ]
     },
     "execution_count": 10,
     "metadata": {},
     "output_type": "execute_result"
    }
   ],
   "source": [
    "data.head(10)"
   ]
  },
  {
   "cell_type": "markdown",
   "id": "d55d298d",
   "metadata": {},
   "source": [
    "> ## Removing Class-Imbalanced Problem"
   ]
  },
  {
   "cell_type": "code",
   "execution_count": 11,
   "id": "24a414e8",
   "metadata": {},
   "outputs": [
    {
     "data": {
      "text/plain": [
       "offensive_language    19190\n",
       "neither                4163\n",
       "hate_speech            1430\n",
       "Name: speech_class, dtype: int64"
      ]
     },
     "execution_count": 11,
     "metadata": {},
     "output_type": "execute_result"
    }
   ],
   "source": [
    "# There is a class imbalance as shown below\n",
    "data['speech_class'].value_counts()"
   ]
  },
  {
   "cell_type": "code",
   "execution_count": 12,
   "id": "0b534fdd",
   "metadata": {},
   "outputs": [],
   "source": [
    "# Isolating Majority Class and Minority Class\n",
    "majority = data[data.speech_class == 'offensive_language']\n",
    "minority = data[data.speech_class =='hate_speech']\n",
    "balanced = data[data.speech_class =='neither']"
   ]
  },
  {
   "cell_type": "code",
   "execution_count": 13,
   "id": "5204a8df",
   "metadata": {},
   "outputs": [],
   "source": [
    "# Downsampling majority class\n",
    "majority_downsampled = resample(majority, replace=False, n_samples=4000,random_state=42)\n",
    "# Upsampling minority class\n",
    "minority_upsampled = resample(minority, replace=True,n_samples=4000,random_state=42)"
   ]
  },
  {
   "cell_type": "code",
   "execution_count": 14,
   "id": "df357c1d",
   "metadata": {},
   "outputs": [],
   "source": [
    "# Combine upsampled minority class with downsampled majority class\n",
    "balanced_data = pd.concat([balanced,majority_downsampled,minority_upsampled])\n",
    "# Resetting Index of Balanced classs\n",
    "balanced_data.reset_index(inplace=True,drop=True)"
   ]
  },
  {
   "cell_type": "code",
   "execution_count": 15,
   "id": "5446f1d9",
   "metadata": {},
   "outputs": [
    {
     "data": {
      "text/plain": [
       "neither               4163\n",
       "offensive_language    4000\n",
       "hate_speech           4000\n",
       "Name: speech_class, dtype: int64"
      ]
     },
     "execution_count": 15,
     "metadata": {},
     "output_type": "execute_result"
    }
   ],
   "source": [
    "balanced_data['speech_class'].value_counts()"
   ]
  },
  {
   "cell_type": "markdown",
   "id": "c48f0458",
   "metadata": {},
   "source": [
    "> ## Creating TF-IDF Vectorizer"
   ]
  },
  {
   "cell_type": "code",
   "execution_count": 16,
   "id": "3a158ea5",
   "metadata": {},
   "outputs": [],
   "source": [
    "# Isolating tweets from balanced_data dataset\n",
    "corpus = balanced_data['tweet']"
   ]
  },
  {
   "cell_type": "code",
   "execution_count": 17,
   "id": "179b52e6",
   "metadata": {},
   "outputs": [],
   "source": [
    "# Importing Corpus of Stopwords from nltk\n",
    "from nltk.corpus import stopwords"
   ]
  },
  {
   "cell_type": "code",
   "execution_count": 18,
   "id": "35e36b3a",
   "metadata": {},
   "outputs": [],
   "source": [
    "# Creating the Tf-Idf model\n",
    "from sklearn.feature_extraction.text import TfidfVectorizer\n",
    "vectorizer = TfidfVectorizer(max_features = 2000, min_df = 3, max_df = 0.6, stop_words = stopwords.words('english'))"
   ]
  },
  {
   "cell_type": "code",
   "execution_count": 19,
   "id": "c9cda4f4",
   "metadata": {},
   "outputs": [],
   "source": [
    "X_text = vectorizer.fit_transform(corpus).toarray()"
   ]
  },
  {
   "cell_type": "code",
   "execution_count": 20,
   "id": "ec7ecac7",
   "metadata": {},
   "outputs": [],
   "source": [
    "y_text = np.asarray(balanced_data['speech_class'])"
   ]
  },
  {
   "cell_type": "markdown",
   "id": "43cbd8ac",
   "metadata": {},
   "source": [
    "> ## Creating Training & Testing Datasets"
   ]
  },
  {
   "cell_type": "code",
   "execution_count": 21,
   "id": "410e1f65",
   "metadata": {},
   "outputs": [],
   "source": [
    "# Splitting the dataset into the Training set and Test set\n",
    "from sklearn.model_selection import train_test_split\n",
    "from sklearn.utils import shuffle\n",
    "\n",
    "# Shuffling the dataset\n",
    "X , y = shuffle(X_text , y_text , random_state = 1)\n",
    "# creating train-test split\n",
    "X_train, X_test, y_train, y_test = train_test_split(X, y, test_size = 0.20, random_state = 0)"
   ]
  },
  {
   "cell_type": "markdown",
   "id": "05f4b56d",
   "metadata": {},
   "source": [
    "> ## Logistic Regression Classifier"
   ]
  },
  {
   "cell_type": "code",
   "execution_count": 22,
   "id": "9ec22227",
   "metadata": {},
   "outputs": [
    {
     "data": {
      "text/plain": [
       "LogisticRegression(max_iter=200)"
      ]
     },
     "execution_count": 22,
     "metadata": {},
     "output_type": "execute_result"
    }
   ],
   "source": [
    "# Training the Logistic Regression classifier\n",
    "from sklearn.linear_model import LogisticRegression\n",
    "logistic_classifier = LogisticRegression(penalty='l2',max_iter=200,solver='lbfgs', multi_class='auto')\n",
    "logistic_classifier.fit(X_train,y_train)"
   ]
  },
  {
   "cell_type": "code",
   "execution_count": 23,
   "id": "feafd889",
   "metadata": {},
   "outputs": [],
   "source": [
    "# Predicting on test set with Logistic Model\n",
    "log_y_pred = logistic_classifier.predict(X_test)"
   ]
  },
  {
   "cell_type": "markdown",
   "id": "ea91788a",
   "metadata": {},
   "source": [
    "> #### Logistic Model Performance"
   ]
  },
  {
   "cell_type": "code",
   "execution_count": 24,
   "id": "481deb38",
   "metadata": {},
   "outputs": [
    {
     "name": "stdout",
     "output_type": "stream",
     "text": [
      "\n",
      "Accuracy Of Logistic Classifier : 87.30%\n",
      "\n"
     ]
    }
   ],
   "source": [
    "# Accuracy of Logistic Model on Test set\n",
    "log_accuracy = accuracy_score(y_test, log_y_pred)\n",
    "print(\"\\nAccuracy Of Logistic Classifier : %.2f\"%(log_accuracy*100)+'%\\n')"
   ]
  },
  {
   "cell_type": "code",
   "execution_count": 25,
   "id": "7c70f66f",
   "metadata": {},
   "outputs": [],
   "source": [
    "# Confusion Matrix for Logistic Model\n",
    "log_cm = confusion_matrix(y_test, log_y_pred)"
   ]
  },
  {
   "cell_type": "code",
   "execution_count": 26,
   "id": "0514542f",
   "metadata": {},
   "outputs": [
    {
     "data": {
      "image/png": "[encoded data removed]",
      "text/plain": [
       "<Figure size 1500x500 with 4 Axes>"
      ]
     },
     "metadata": {},
     "output_type": "display_data"
    }
   ],
   "source": [
    "# Plotting the Confusion Matrix for Logistic Model \n",
    "\n",
    "fig,axis = plt.subplots(nrows =1,ncols= 2,figsize=(15,5),dpi=100)\n",
    "\n",
    "sns.heatmap(data=log_cm,annot=True,fmt='',cmap='crest',xticklabels=logistic_classifier.classes_,\n",
    "            yticklabels=logistic_classifier.classes_, ax = axis[0])\n",
    "axis[0].set_title('Confusion Matrix')\n",
    "\n",
    "sns.heatmap(data=log_cm/np.sum(log_cm),annot=True,fmt='.1%',cmap='crest',xticklabels=logistic_classifier.classes_,\n",
    "            yticklabels=logistic_classifier.classes_, ax = axis[1])\n",
    "axis[1].set_title(\"Confusion Matrix (in % of total test data)\")\n",
    "\n",
    "fig.suptitle(\"Confusion Matrix For Logistic Regression Classifier\", fontsize=16)\n",
    "plt.show()"
   ]
  },
  {
   "cell_type": "markdown",
   "id": "78d389c6",
   "metadata": {},
   "source": [
    "> ## Random Forest Classifier"
   ]
  },
  {
   "cell_type": "code",
   "execution_count": 27,
   "id": "4205843d",
   "metadata": {},
   "outputs": [
    {
     "data": {
      "text/plain": [
       "RandomForestClassifier(criterion='entropy', n_estimators=200, random_state=0)"
      ]
     },
     "execution_count": 27,
     "metadata": {},
     "output_type": "execute_result"
    }
   ],
   "source": [
    "# Training the Random Forest Classification Model on Training set\n",
    "from sklearn.ensemble import RandomForestClassifier\n",
    "RF_classifier = RandomForestClassifier(n_estimators = 200, criterion = 'entropy', random_state = 0)\n",
    "RF_classifier.fit(X_train,y_train)"
   ]
  },
  {
   "cell_type": "code",
   "execution_count": 28,
   "id": "319db63e",
   "metadata": {},
   "outputs": [],
   "source": [
    "# Predicting on test set with Random Forest Model\n",
    "RF_y_pred = RF_classifier.predict(X_test)"
   ]
  },
  {
   "cell_type": "markdown",
   "id": "02d3f7fb",
   "metadata": {},
   "source": [
    "> #### Random Forest Model Performance"
   ]
  },
  {
   "cell_type": "code",
   "execution_count": 29,
   "id": "be067939",
   "metadata": {},
   "outputs": [
    {
     "name": "stdout",
     "output_type": "stream",
     "text": [
      "\n",
      "Accuracy Of Random Forest Classifier : 93.34%\n",
      "\n"
     ]
    }
   ],
   "source": [
    "# Accuracy of Random Forest Model on Test set\n",
    "RF_accuracy = accuracy_score(y_test, RF_y_pred)\n",
    "print(\"\\nAccuracy Of Random Forest Classifier : %.2f\"%(RF_accuracy*100)+'%\\n')"
   ]
  },
  {
   "cell_type": "code",
   "execution_count": 30,
   "id": "d9bf6d17",
   "metadata": {},
   "outputs": [],
   "source": [
    "# Confusion Matrix for Random Forest Model\n",
    "RF_cm = confusion_matrix(y_test, RF_y_pred)"
   ]
  },
  {
   "cell_type": "code",
   "execution_count": 31,
   "id": "e3e10782",
   "metadata": {},
   "outputs": [
    {
     "data": {
      "image/png": "[encoded data removed]",
      "text/plain": [
       "<Figure size 1500x500 with 4 Axes>"
      ]
     },
     "metadata": {},
     "output_type": "display_data"
    }
   ],
   "source": [
    "# Plotting the Confusion Matrix for Random Forest Model\n",
    "\n",
    "fig,axis = plt.subplots(nrows =1,ncols= 2,figsize=(15,5),dpi=100)\n",
    "\n",
    "sns.heatmap(data=RF_cm,annot=True,fmt='',cmap='crest',xticklabels=RF_classifier.classes_,\n",
    "            yticklabels=RF_classifier.classes_, ax = axis[0])\n",
    "axis[0].set_title('Confusion Matrix')\n",
    "\n",
    "sns.heatmap(data=RF_cm/np.sum(RF_cm),annot=True,fmt='.1%',cmap='crest',xticklabels=RF_classifier.classes_,\n",
    "            yticklabels=RF_classifier.classes_, ax = axis[1])\n",
    "axis[1].set_title(\"Confusion Matrix (in % of total test data)\")\n",
    "\n",
    "fig.suptitle('Confusion Matrix For Random Forest Classifier', fontsize=16)\n",
    "plt.show()"
   ]
  },
  {
   "cell_type": "markdown",
   "id": "fc3790de",
   "metadata": {},
   "source": [
    "> ## Saving the Trained Models"
   ]
  },
  {
   "cell_type": "code",
   "execution_count": 32,
   "id": "9eaeb69e",
   "metadata": {},
   "outputs": [],
   "source": [
    "# Importing pickle\n",
    "import pickle"
   ]
  },
  {
   "cell_type": "markdown",
   "id": "2d93ca0c",
   "metadata": {},
   "source": [
    "> #### Pickling the TF-IDF Vectorizer"
   ]
  },
  {
   "cell_type": "code",
   "execution_count": 33,
   "id": "ed5dcb06",
   "metadata": {},
   "outputs": [],
   "source": [
    "# saving tf-idf model\n",
    "with open('tf-idf-model.pickle','wb') as f:\n",
    "    pickle.dump(vectorizer,f)"
   ]
  },
  {
   "cell_type": "markdown",
   "id": "1a9c9079",
   "metadata": {},
   "source": [
    "> #### Pickling the Logistic Classifier"
   ]
  },
  {
   "cell_type": "code",
   "execution_count": 34,
   "id": "dcf2e995",
   "metadata": {},
   "outputs": [],
   "source": [
    "# saving logistic classifier\n",
    "with open('Logistic-Classifier.pickle','wb') as f:\n",
    "    pickle.dump(logistic_classifier,f)"
   ]
  },
  {
   "cell_type": "markdown",
   "id": "5ce5d4f4",
   "metadata": {},
   "source": [
    "> #### Pickling the Random Forest Classifier"
   ]
  },
  {
   "cell_type": "code",
   "execution_count": 35,
   "id": "ac8ec3ee",
   "metadata": {},
   "outputs": [],
   "source": [
    "# saving Random Forest classifier\n",
    "with open('RandomForest-Classifier.pickle','wb') as f:\n",
    "    pickle.dump(RF_classifier,f)"
   ]
  },
  {
   "cell_type": "markdown",
   "id": "2d6d3848",
   "metadata": {},
   "source": [
    " "
   ]
  },
  {
   "cell_type": "markdown",
   "id": "18e27b3e",
   "metadata": {},
   "source": [
    "## Conclusion\n",
    "> We build a Text Classification Model for the Hate Speech and Offensive Language Dataset.The Raw tweets were processed through Regular Expressions. There was Class Imbalance issue present in the dataset wich was addressed through Upsampling and Downsampling Techniques.<br>\n",
    "Afterwards, TF-IDF vectorizer model was created, the output of TF-IDF vectorizer is then feed into the Logistic Model and Random Forest Model. Performance of both the models is then compared through metrics like Accuracy and Confusion Matrix. Random Forest Model was found to have Highest Accuracy of 93.34% while Logistic Model had accuracy of 87.30% . <br>\n",
    "In the end we saved the trained models as pickle files for future classification purpose."
   ]
  }
 ],
 "metadata": {
  "kernelspec": {
   "display_name": "Python 3 (ipykernel)",
   "language": "python",
   "name": "python3"
  },
  "language_info": {
   "codemirror_mode": {
    "name": "ipython",
    "version": 3
   },
   "file_extension": ".py",
   "mimetype": "text/x-python",
   "name": "python",
   "nbconvert_exporter": "python",
   "pygments_lexer": "ipython3",
   "version": "3.9.12"
  }
 },
 "nbformat": 4,
 "nbformat_minor": 5
}

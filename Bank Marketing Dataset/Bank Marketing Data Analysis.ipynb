{
  "cells": [
    {
      "cell_type": "markdown",
      "metadata": {
        "id": "XDjbQ9BHbZIk"
      },
      "source": [
        "># Bank Marketing Data Set Analysis Using SVM , Logistic Regression , Random Forest and Naive Bayes & Analysing Their Performance With ROC-AUC Curve.\n",
        ">>##### By - Saif Ali Ahmad\n",
        "Discription about dataset - The data is related with direct marketing campaigns (phone calls) of a Portuguese banking institution. The classification goal is to predict if the client will subscribe a term deposit (variable y).\n",
        "\n",
        ">URL for data set - https://archive.ics.uci.edu/ml/datasets/bank+marketing"
      ]
    },
    {
      "cell_type": "markdown",
      "metadata": {
        "id": "09-pPQE5bZIv"
      },
      "source": [
        "### Importing the Data Set"
      ]
    },
    {
      "cell_type": "code",
      "execution_count": null,
      "metadata": {
        "id": "nWIjwOHPbZIx",
        "outputId": "448b4ec8-2263-4a6d-e6b9-bfcea1b71d54"
      },
      "outputs": [
        {
          "name": "stderr",
          "output_type": "stream",
          "text": [
            "C:\\Users\\saif\\Anaconda3\\envs\\tensorflow\\lib\\importlib\\_bootstrap.py:222: RuntimeWarning: numpy.dtype size changed, may indicate binary incompatibility. Expected 96, got 88\n",
            "  return f(*args, **kwds)\n",
            "C:\\Users\\saif\\Anaconda3\\envs\\tensorflow\\lib\\importlib\\_bootstrap.py:222: RuntimeWarning: numpy.dtype size changed, may indicate binary incompatibility. Expected 96, got 88\n",
            "  return f(*args, **kwds)\n"
          ]
        }
      ],
      "source": [
        "# Importing the important Libraries\n",
        "import pandas as pd\n",
        "import numpy as np\n",
        "import matplotlib.pyplot as plt\n",
        "%matplotlib inline"
      ]
    },
    {
      "cell_type": "code",
      "execution_count": null,
      "metadata": {
        "id": "WLpqUMZ7bZI0",
        "outputId": "238b4dde-6eb6-4176-f81b-caf331aa1b7b"
      },
      "outputs": [
        {
          "name": "stdout",
          "output_type": "stream",
          "text": [
            "Dataset Shape -  (41188, 21)\n"
          ]
        }
      ],
      "source": [
        "# Loading The Dataset\n",
        "doc = pd.read_csv('bank-additional-full.csv',sep=';')\n",
        "# Printing the dataset shape\n",
        "print('Dataset Shape - ', doc.shape)"
      ]
    },
    {
      "cell_type": "code",
      "execution_count": null,
      "metadata": {
        "id": "xfVZULw3bZI2",
        "outputId": "0a9bd0ee-b9b8-4ae6-bbb1-54c5ec1cf72b"
      },
      "outputs": [
        {
          "data": {
            "text/html": [
              "<div>\n",
              "<style scoped>\n",
              "    .dataframe tbody tr th:only-of-type {\n",
              "        vertical-align: middle;\n",
              "    }\n",
              "\n",
              "    .dataframe tbody tr th {\n",
              "        vertical-align: top;\n",
              "    }\n",
              "\n",
              "    .dataframe thead th {\n",
              "        text-align: right;\n",
              "    }\n",
              "</style>\n",
              "<table border=\"1\" class=\"dataframe\">\n",
              "  <thead>\n",
              "    <tr style=\"text-align: right;\">\n",
              "      <th></th>\n",
              "      <th>age</th>\n",
              "      <th>job</th>\n",
              "      <th>marital</th>\n",
              "      <th>education</th>\n",
              "      <th>default</th>\n",
              "      <th>housing</th>\n",
              "      <th>loan</th>\n",
              "      <th>contact</th>\n",
              "      <th>month</th>\n",
              "      <th>day_of_week</th>\n",
              "      <th>...</th>\n",
              "      <th>campaign</th>\n",
              "      <th>pdays</th>\n",
              "      <th>previous</th>\n",
              "      <th>poutcome</th>\n",
              "      <th>emp.var.rate</th>\n",
              "      <th>cons.price.idx</th>\n",
              "      <th>cons.conf.idx</th>\n",
              "      <th>euribor3m</th>\n",
              "      <th>nr.employed</th>\n",
              "      <th>y</th>\n",
              "    </tr>\n",
              "  </thead>\n",
              "  <tbody>\n",
              "    <tr>\n",
              "      <th>0</th>\n",
              "      <td>56</td>\n",
              "      <td>housemaid</td>\n",
              "      <td>married</td>\n",
              "      <td>basic.4y</td>\n",
              "      <td>no</td>\n",
              "      <td>no</td>\n",
              "      <td>no</td>\n",
              "      <td>telephone</td>\n",
              "      <td>may</td>\n",
              "      <td>mon</td>\n",
              "      <td>...</td>\n",
              "      <td>1</td>\n",
              "      <td>999</td>\n",
              "      <td>0</td>\n",
              "      <td>nonexistent</td>\n",
              "      <td>1.1</td>\n",
              "      <td>93.994</td>\n",
              "      <td>-36.4</td>\n",
              "      <td>4.857</td>\n",
              "      <td>5191.0</td>\n",
              "      <td>no</td>\n",
              "    </tr>\n",
              "    <tr>\n",
              "      <th>1</th>\n",
              "      <td>57</td>\n",
              "      <td>services</td>\n",
              "      <td>married</td>\n",
              "      <td>high.school</td>\n",
              "      <td>unknown</td>\n",
              "      <td>no</td>\n",
              "      <td>no</td>\n",
              "      <td>telephone</td>\n",
              "      <td>may</td>\n",
              "      <td>mon</td>\n",
              "      <td>...</td>\n",
              "      <td>1</td>\n",
              "      <td>999</td>\n",
              "      <td>0</td>\n",
              "      <td>nonexistent</td>\n",
              "      <td>1.1</td>\n",
              "      <td>93.994</td>\n",
              "      <td>-36.4</td>\n",
              "      <td>4.857</td>\n",
              "      <td>5191.0</td>\n",
              "      <td>no</td>\n",
              "    </tr>\n",
              "    <tr>\n",
              "      <th>2</th>\n",
              "      <td>37</td>\n",
              "      <td>services</td>\n",
              "      <td>married</td>\n",
              "      <td>high.school</td>\n",
              "      <td>no</td>\n",
              "      <td>yes</td>\n",
              "      <td>no</td>\n",
              "      <td>telephone</td>\n",
              "      <td>may</td>\n",
              "      <td>mon</td>\n",
              "      <td>...</td>\n",
              "      <td>1</td>\n",
              "      <td>999</td>\n",
              "      <td>0</td>\n",
              "      <td>nonexistent</td>\n",
              "      <td>1.1</td>\n",
              "      <td>93.994</td>\n",
              "      <td>-36.4</td>\n",
              "      <td>4.857</td>\n",
              "      <td>5191.0</td>\n",
              "      <td>no</td>\n",
              "    </tr>\n",
              "    <tr>\n",
              "      <th>3</th>\n",
              "      <td>40</td>\n",
              "      <td>admin.</td>\n",
              "      <td>married</td>\n",
              "      <td>basic.6y</td>\n",
              "      <td>no</td>\n",
              "      <td>no</td>\n",
              "      <td>no</td>\n",
              "      <td>telephone</td>\n",
              "      <td>may</td>\n",
              "      <td>mon</td>\n",
              "      <td>...</td>\n",
              "      <td>1</td>\n",
              "      <td>999</td>\n",
              "      <td>0</td>\n",
              "      <td>nonexistent</td>\n",
              "      <td>1.1</td>\n",
              "      <td>93.994</td>\n",
              "      <td>-36.4</td>\n",
              "      <td>4.857</td>\n",
              "      <td>5191.0</td>\n",
              "      <td>no</td>\n",
              "    </tr>\n",
              "    <tr>\n",
              "      <th>4</th>\n",
              "      <td>56</td>\n",
              "      <td>services</td>\n",
              "      <td>married</td>\n",
              "      <td>high.school</td>\n",
              "      <td>no</td>\n",
              "      <td>no</td>\n",
              "      <td>yes</td>\n",
              "      <td>telephone</td>\n",
              "      <td>may</td>\n",
              "      <td>mon</td>\n",
              "      <td>...</td>\n",
              "      <td>1</td>\n",
              "      <td>999</td>\n",
              "      <td>0</td>\n",
              "      <td>nonexistent</td>\n",
              "      <td>1.1</td>\n",
              "      <td>93.994</td>\n",
              "      <td>-36.4</td>\n",
              "      <td>4.857</td>\n",
              "      <td>5191.0</td>\n",
              "      <td>no</td>\n",
              "    </tr>\n",
              "    <tr>\n",
              "      <th>5</th>\n",
              "      <td>45</td>\n",
              "      <td>services</td>\n",
              "      <td>married</td>\n",
              "      <td>basic.9y</td>\n",
              "      <td>unknown</td>\n",
              "      <td>no</td>\n",
              "      <td>no</td>\n",
              "      <td>telephone</td>\n",
              "      <td>may</td>\n",
              "      <td>mon</td>\n",
              "      <td>...</td>\n",
              "      <td>1</td>\n",
              "      <td>999</td>\n",
              "      <td>0</td>\n",
              "      <td>nonexistent</td>\n",
              "      <td>1.1</td>\n",
              "      <td>93.994</td>\n",
              "      <td>-36.4</td>\n",
              "      <td>4.857</td>\n",
              "      <td>5191.0</td>\n",
              "      <td>no</td>\n",
              "    </tr>\n",
              "    <tr>\n",
              "      <th>6</th>\n",
              "      <td>59</td>\n",
              "      <td>admin.</td>\n",
              "      <td>married</td>\n",
              "      <td>professional.course</td>\n",
              "      <td>no</td>\n",
              "      <td>no</td>\n",
              "      <td>no</td>\n",
              "      <td>telephone</td>\n",
              "      <td>may</td>\n",
              "      <td>mon</td>\n",
              "      <td>...</td>\n",
              "      <td>1</td>\n",
              "      <td>999</td>\n",
              "      <td>0</td>\n",
              "      <td>nonexistent</td>\n",
              "      <td>1.1</td>\n",
              "      <td>93.994</td>\n",
              "      <td>-36.4</td>\n",
              "      <td>4.857</td>\n",
              "      <td>5191.0</td>\n",
              "      <td>no</td>\n",
              "    </tr>\n",
              "    <tr>\n",
              "      <th>7</th>\n",
              "      <td>41</td>\n",
              "      <td>blue-collar</td>\n",
              "      <td>married</td>\n",
              "      <td>unknown</td>\n",
              "      <td>unknown</td>\n",
              "      <td>no</td>\n",
              "      <td>no</td>\n",
              "      <td>telephone</td>\n",
              "      <td>may</td>\n",
              "      <td>mon</td>\n",
              "      <td>...</td>\n",
              "      <td>1</td>\n",
              "      <td>999</td>\n",
              "      <td>0</td>\n",
              "      <td>nonexistent</td>\n",
              "      <td>1.1</td>\n",
              "      <td>93.994</td>\n",
              "      <td>-36.4</td>\n",
              "      <td>4.857</td>\n",
              "      <td>5191.0</td>\n",
              "      <td>no</td>\n",
              "    </tr>\n",
              "    <tr>\n",
              "      <th>8</th>\n",
              "      <td>24</td>\n",
              "      <td>technician</td>\n",
              "      <td>single</td>\n",
              "      <td>professional.course</td>\n",
              "      <td>no</td>\n",
              "      <td>yes</td>\n",
              "      <td>no</td>\n",
              "      <td>telephone</td>\n",
              "      <td>may</td>\n",
              "      <td>mon</td>\n",
              "      <td>...</td>\n",
              "      <td>1</td>\n",
              "      <td>999</td>\n",
              "      <td>0</td>\n",
              "      <td>nonexistent</td>\n",
              "      <td>1.1</td>\n",
              "      <td>93.994</td>\n",
              "      <td>-36.4</td>\n",
              "      <td>4.857</td>\n",
              "      <td>5191.0</td>\n",
              "      <td>no</td>\n",
              "    </tr>\n",
              "    <tr>\n",
              "      <th>9</th>\n",
              "      <td>25</td>\n",
              "      <td>services</td>\n",
              "      <td>single</td>\n",
              "      <td>high.school</td>\n",
              "      <td>no</td>\n",
              "      <td>yes</td>\n",
              "      <td>no</td>\n",
              "      <td>telephone</td>\n",
              "      <td>may</td>\n",
              "      <td>mon</td>\n",
              "      <td>...</td>\n",
              "      <td>1</td>\n",
              "      <td>999</td>\n",
              "      <td>0</td>\n",
              "      <td>nonexistent</td>\n",
              "      <td>1.1</td>\n",
              "      <td>93.994</td>\n",
              "      <td>-36.4</td>\n",
              "      <td>4.857</td>\n",
              "      <td>5191.0</td>\n",
              "      <td>no</td>\n",
              "    </tr>\n",
              "  </tbody>\n",
              "</table>\n",
              "<p>10 rows × 21 columns</p>\n",
              "</div>"
            ],
            "text/plain": [
              "   age          job  marital            education  default housing loan  \\\n",
              "0   56    housemaid  married             basic.4y       no      no   no   \n",
              "1   57     services  married          high.school  unknown      no   no   \n",
              "2   37     services  married          high.school       no     yes   no   \n",
              "3   40       admin.  married             basic.6y       no      no   no   \n",
              "4   56     services  married          high.school       no      no  yes   \n",
              "5   45     services  married             basic.9y  unknown      no   no   \n",
              "6   59       admin.  married  professional.course       no      no   no   \n",
              "7   41  blue-collar  married              unknown  unknown      no   no   \n",
              "8   24   technician   single  professional.course       no     yes   no   \n",
              "9   25     services   single          high.school       no     yes   no   \n",
              "\n",
              "     contact month day_of_week ...  campaign  pdays  previous     poutcome  \\\n",
              "0  telephone   may         mon ...         1    999         0  nonexistent   \n",
              "1  telephone   may         mon ...         1    999         0  nonexistent   \n",
              "2  telephone   may         mon ...         1    999         0  nonexistent   \n",
              "3  telephone   may         mon ...         1    999         0  nonexistent   \n",
              "4  telephone   may         mon ...         1    999         0  nonexistent   \n",
              "5  telephone   may         mon ...         1    999         0  nonexistent   \n",
              "6  telephone   may         mon ...         1    999         0  nonexistent   \n",
              "7  telephone   may         mon ...         1    999         0  nonexistent   \n",
              "8  telephone   may         mon ...         1    999         0  nonexistent   \n",
              "9  telephone   may         mon ...         1    999         0  nonexistent   \n",
              "\n",
              "  emp.var.rate  cons.price.idx  cons.conf.idx  euribor3m  nr.employed   y  \n",
              "0          1.1          93.994          -36.4      4.857       5191.0  no  \n",
              "1          1.1          93.994          -36.4      4.857       5191.0  no  \n",
              "2          1.1          93.994          -36.4      4.857       5191.0  no  \n",
              "3          1.1          93.994          -36.4      4.857       5191.0  no  \n",
              "4          1.1          93.994          -36.4      4.857       5191.0  no  \n",
              "5          1.1          93.994          -36.4      4.857       5191.0  no  \n",
              "6          1.1          93.994          -36.4      4.857       5191.0  no  \n",
              "7          1.1          93.994          -36.4      4.857       5191.0  no  \n",
              "8          1.1          93.994          -36.4      4.857       5191.0  no  \n",
              "9          1.1          93.994          -36.4      4.857       5191.0  no  \n",
              "\n",
              "[10 rows x 21 columns]"
            ]
          },
          "execution_count": 3,
          "metadata": {},
          "output_type": "execute_result"
        }
      ],
      "source": [
        "# Looking at first 10 values of dataset\n",
        "doc.head(10)"
      ]
    },
    {
      "cell_type": "code",
      "execution_count": null,
      "metadata": {
        "id": "f0s2bKYNbZI3",
        "outputId": "09555461-b108-479b-d9bc-65c19b85806b"
      },
      "outputs": [
        {
          "name": "stdout",
          "output_type": "stream",
          "text": [
            "<class 'pandas.core.frame.DataFrame'>\n",
            "RangeIndex: 41188 entries, 0 to 41187\n",
            "Data columns (total 21 columns):\n",
            "age               41188 non-null int64\n",
            "job               41188 non-null object\n",
            "marital           41188 non-null object\n",
            "education         41188 non-null object\n",
            "default           41188 non-null object\n",
            "housing           41188 non-null object\n",
            "loan              41188 non-null object\n",
            "contact           41188 non-null object\n",
            "month             41188 non-null object\n",
            "day_of_week       41188 non-null object\n",
            "duration          41188 non-null int64\n",
            "campaign          41188 non-null int64\n",
            "pdays             41188 non-null int64\n",
            "previous          41188 non-null int64\n",
            "poutcome          41188 non-null object\n",
            "emp.var.rate      41188 non-null float64\n",
            "cons.price.idx    41188 non-null float64\n",
            "cons.conf.idx     41188 non-null float64\n",
            "euribor3m         41188 non-null float64\n",
            "nr.employed       41188 non-null float64\n",
            "y                 41188 non-null object\n",
            "dtypes: float64(5), int64(5), object(11)\n",
            "memory usage: 6.6+ MB\n"
          ]
        }
      ],
      "source": [
        "# Printing information about Dataset using info() cammand\n",
        "doc.info()"
      ]
    },
    {
      "cell_type": "code",
      "execution_count": null,
      "metadata": {
        "id": "hRnxV0GTbZI4",
        "outputId": "4b983061-3bd3-422e-831e-d2e4c01c7081"
      },
      "outputs": [
        {
          "data": {
            "text/plain": [
              "age               False\n",
              "job               False\n",
              "marital           False\n",
              "education         False\n",
              "default           False\n",
              "housing           False\n",
              "loan              False\n",
              "contact           False\n",
              "month             False\n",
              "day_of_week       False\n",
              "duration          False\n",
              "campaign          False\n",
              "pdays             False\n",
              "previous          False\n",
              "poutcome          False\n",
              "emp.var.rate      False\n",
              "cons.price.idx    False\n",
              "cons.conf.idx     False\n",
              "euribor3m         False\n",
              "nr.employed       False\n",
              "y                 False\n",
              "dtype: bool"
            ]
          },
          "execution_count": 5,
          "metadata": {},
          "output_type": "execute_result"
        }
      ],
      "source": [
        "# Finding if there is null value in Data Set\n",
        "doc.isna().any()"
      ]
    },
    {
      "cell_type": "code",
      "execution_count": null,
      "metadata": {
        "id": "Uq23JuGybZI6",
        "outputId": "4d02e25a-e26d-4001-a3c1-48bc1e656757"
      },
      "outputs": [
        {
          "data": {
            "text/plain": [
              "Index(['age', 'job', 'marital', 'education', 'default', 'housing', 'loan',\n",
              "       'contact', 'month', 'day_of_week', 'duration', 'campaign', 'pdays',\n",
              "       'previous', 'poutcome', 'emp.var.rate', 'cons.price.idx',\n",
              "       'cons.conf.idx', 'euribor3m', 'nr.employed', 'y'],\n",
              "      dtype='object')"
            ]
          },
          "execution_count": 6,
          "metadata": {},
          "output_type": "execute_result"
        }
      ],
      "source": [
        "# Columns of Data Set\n",
        "doc.columns"
      ]
    },
    {
      "cell_type": "code",
      "execution_count": null,
      "metadata": {
        "id": "hR7WHMsEbZI8",
        "outputId": "8fb81692-1282-4e1a-a813-d73a22e922f3"
      },
      "outputs": [
        {
          "data": {
            "text/plain": [
              "university.degree      12168\n",
              "high.school             9515\n",
              "basic.9y                6045\n",
              "professional.course     5243\n",
              "basic.4y                4176\n",
              "basic.6y                2292\n",
              "unknown                 1731\n",
              "illiterate                18\n",
              "Name: education, dtype: int64"
            ]
          },
          "execution_count": 7,
          "metadata": {},
          "output_type": "execute_result"
        }
      ],
      "source": [
        "# Unique Values and ther frequency in 'education' column\n",
        "doc.education.value_counts()"
      ]
    },
    {
      "cell_type": "code",
      "execution_count": null,
      "metadata": {
        "id": "OSsoaFcnbZI_",
        "outputId": "f60e96a3-33e6-4de2-96c0-e018b48d1d19"
      },
      "outputs": [
        {
          "data": {
            "text/plain": [
              "no         32588\n",
              "unknown     8597\n",
              "yes            3\n",
              "Name: default, dtype: int64"
            ]
          },
          "execution_count": 8,
          "metadata": {},
          "output_type": "execute_result"
        }
      ],
      "source": [
        "# Unique Values and ther frequency in 'default' column\n",
        "doc.default.value_counts()"
      ]
    },
    {
      "cell_type": "markdown",
      "metadata": {
        "id": "EjPLfYBFbZJA"
      },
      "source": [
        "## Data Preprocessing Part\n",
        ">First we will Create Variables X & y , then we will create two more variables X_categorical & X_continuous out of X containning columns with categorical & continuous data in X respectively."
      ]
    },
    {
      "cell_type": "code",
      "execution_count": null,
      "metadata": {
        "id": "mjA8ggwmbZJC"
      },
      "outputs": [],
      "source": [
        "# Creating Variable X by dropping 'y' i.e the column to predict\n",
        "X = doc.drop('y',axis=1)\n",
        "# Creating Variable y with column 'y' i.e the column to predict\n",
        "y = doc['y'].values"
      ]
    },
    {
      "cell_type": "code",
      "execution_count": null,
      "metadata": {
        "id": "wvy3_jJ7bZJE",
        "outputId": "4a7cdbda-d49a-4b69-827c-333c90c7c6ed"
      },
      "outputs": [
        {
          "data": {
            "text/html": [
              "<div>\n",
              "<style scoped>\n",
              "    .dataframe tbody tr th:only-of-type {\n",
              "        vertical-align: middle;\n",
              "    }\n",
              "\n",
              "    .dataframe tbody tr th {\n",
              "        vertical-align: top;\n",
              "    }\n",
              "\n",
              "    .dataframe thead th {\n",
              "        text-align: right;\n",
              "    }\n",
              "</style>\n",
              "<table border=\"1\" class=\"dataframe\">\n",
              "  <thead>\n",
              "    <tr style=\"text-align: right;\">\n",
              "      <th></th>\n",
              "      <th>age</th>\n",
              "      <th>job</th>\n",
              "      <th>marital</th>\n",
              "      <th>education</th>\n",
              "      <th>default</th>\n",
              "      <th>housing</th>\n",
              "      <th>loan</th>\n",
              "      <th>contact</th>\n",
              "      <th>month</th>\n",
              "      <th>day_of_week</th>\n",
              "      <th>duration</th>\n",
              "      <th>campaign</th>\n",
              "      <th>pdays</th>\n",
              "      <th>previous</th>\n",
              "      <th>poutcome</th>\n",
              "      <th>emp.var.rate</th>\n",
              "      <th>cons.price.idx</th>\n",
              "      <th>cons.conf.idx</th>\n",
              "      <th>euribor3m</th>\n",
              "      <th>nr.employed</th>\n",
              "    </tr>\n",
              "  </thead>\n",
              "  <tbody>\n",
              "    <tr>\n",
              "      <th>0</th>\n",
              "      <td>56</td>\n",
              "      <td>housemaid</td>\n",
              "      <td>married</td>\n",
              "      <td>basic.4y</td>\n",
              "      <td>no</td>\n",
              "      <td>no</td>\n",
              "      <td>no</td>\n",
              "      <td>telephone</td>\n",
              "      <td>may</td>\n",
              "      <td>mon</td>\n",
              "      <td>261</td>\n",
              "      <td>1</td>\n",
              "      <td>999</td>\n",
              "      <td>0</td>\n",
              "      <td>nonexistent</td>\n",
              "      <td>1.1</td>\n",
              "      <td>93.994</td>\n",
              "      <td>-36.4</td>\n",
              "      <td>4.857</td>\n",
              "      <td>5191.0</td>\n",
              "    </tr>\n",
              "    <tr>\n",
              "      <th>1</th>\n",
              "      <td>57</td>\n",
              "      <td>services</td>\n",
              "      <td>married</td>\n",
              "      <td>high.school</td>\n",
              "      <td>unknown</td>\n",
              "      <td>no</td>\n",
              "      <td>no</td>\n",
              "      <td>telephone</td>\n",
              "      <td>may</td>\n",
              "      <td>mon</td>\n",
              "      <td>149</td>\n",
              "      <td>1</td>\n",
              "      <td>999</td>\n",
              "      <td>0</td>\n",
              "      <td>nonexistent</td>\n",
              "      <td>1.1</td>\n",
              "      <td>93.994</td>\n",
              "      <td>-36.4</td>\n",
              "      <td>4.857</td>\n",
              "      <td>5191.0</td>\n",
              "    </tr>\n",
              "    <tr>\n",
              "      <th>2</th>\n",
              "      <td>37</td>\n",
              "      <td>services</td>\n",
              "      <td>married</td>\n",
              "      <td>high.school</td>\n",
              "      <td>no</td>\n",
              "      <td>yes</td>\n",
              "      <td>no</td>\n",
              "      <td>telephone</td>\n",
              "      <td>may</td>\n",
              "      <td>mon</td>\n",
              "      <td>226</td>\n",
              "      <td>1</td>\n",
              "      <td>999</td>\n",
              "      <td>0</td>\n",
              "      <td>nonexistent</td>\n",
              "      <td>1.1</td>\n",
              "      <td>93.994</td>\n",
              "      <td>-36.4</td>\n",
              "      <td>4.857</td>\n",
              "      <td>5191.0</td>\n",
              "    </tr>\n",
              "    <tr>\n",
              "      <th>3</th>\n",
              "      <td>40</td>\n",
              "      <td>admin.</td>\n",
              "      <td>married</td>\n",
              "      <td>basic.6y</td>\n",
              "      <td>no</td>\n",
              "      <td>no</td>\n",
              "      <td>no</td>\n",
              "      <td>telephone</td>\n",
              "      <td>may</td>\n",
              "      <td>mon</td>\n",
              "      <td>151</td>\n",
              "      <td>1</td>\n",
              "      <td>999</td>\n",
              "      <td>0</td>\n",
              "      <td>nonexistent</td>\n",
              "      <td>1.1</td>\n",
              "      <td>93.994</td>\n",
              "      <td>-36.4</td>\n",
              "      <td>4.857</td>\n",
              "      <td>5191.0</td>\n",
              "    </tr>\n",
              "    <tr>\n",
              "      <th>4</th>\n",
              "      <td>56</td>\n",
              "      <td>services</td>\n",
              "      <td>married</td>\n",
              "      <td>high.school</td>\n",
              "      <td>no</td>\n",
              "      <td>no</td>\n",
              "      <td>yes</td>\n",
              "      <td>telephone</td>\n",
              "      <td>may</td>\n",
              "      <td>mon</td>\n",
              "      <td>307</td>\n",
              "      <td>1</td>\n",
              "      <td>999</td>\n",
              "      <td>0</td>\n",
              "      <td>nonexistent</td>\n",
              "      <td>1.1</td>\n",
              "      <td>93.994</td>\n",
              "      <td>-36.4</td>\n",
              "      <td>4.857</td>\n",
              "      <td>5191.0</td>\n",
              "    </tr>\n",
              "  </tbody>\n",
              "</table>\n",
              "</div>"
            ],
            "text/plain": [
              "   age        job  marital    education  default housing loan    contact  \\\n",
              "0   56  housemaid  married     basic.4y       no      no   no  telephone   \n",
              "1   57   services  married  high.school  unknown      no   no  telephone   \n",
              "2   37   services  married  high.school       no     yes   no  telephone   \n",
              "3   40     admin.  married     basic.6y       no      no   no  telephone   \n",
              "4   56   services  married  high.school       no      no  yes  telephone   \n",
              "\n",
              "  month day_of_week  duration  campaign  pdays  previous     poutcome  \\\n",
              "0   may         mon       261         1    999         0  nonexistent   \n",
              "1   may         mon       149         1    999         0  nonexistent   \n",
              "2   may         mon       226         1    999         0  nonexistent   \n",
              "3   may         mon       151         1    999         0  nonexistent   \n",
              "4   may         mon       307         1    999         0  nonexistent   \n",
              "\n",
              "   emp.var.rate  cons.price.idx  cons.conf.idx  euribor3m  nr.employed  \n",
              "0           1.1          93.994          -36.4      4.857       5191.0  \n",
              "1           1.1          93.994          -36.4      4.857       5191.0  \n",
              "2           1.1          93.994          -36.4      4.857       5191.0  \n",
              "3           1.1          93.994          -36.4      4.857       5191.0  \n",
              "4           1.1          93.994          -36.4      4.857       5191.0  "
            ]
          },
          "execution_count": 10,
          "metadata": {},
          "output_type": "execute_result"
        }
      ],
      "source": [
        "# Printing first five Columns of X\n",
        "X.head()"
      ]
    },
    {
      "cell_type": "code",
      "execution_count": null,
      "metadata": {
        "id": "OczYSWe2bZJF",
        "outputId": "a5a1e1e8-d755-4d67-f54c-2ba7bfa85ea7"
      },
      "outputs": [
        {
          "data": {
            "text/plain": [
              "array(['no', 'no', 'no', ..., 'no', 'yes', 'no'], dtype=object)"
            ]
          },
          "execution_count": 11,
          "metadata": {},
          "output_type": "execute_result"
        }
      ],
      "source": [
        "y"
      ]
    },
    {
      "cell_type": "code",
      "execution_count": null,
      "metadata": {
        "id": "MVI2rcpHbZJH",
        "outputId": "e5e52c7d-c144-4c03-d389-9cb298f4bdcc"
      },
      "outputs": [
        {
          "data": {
            "text/html": [
              "<div>\n",
              "<style scoped>\n",
              "    .dataframe tbody tr th:only-of-type {\n",
              "        vertical-align: middle;\n",
              "    }\n",
              "\n",
              "    .dataframe tbody tr th {\n",
              "        vertical-align: top;\n",
              "    }\n",
              "\n",
              "    .dataframe thead th {\n",
              "        text-align: right;\n",
              "    }\n",
              "</style>\n",
              "<table border=\"1\" class=\"dataframe\">\n",
              "  <thead>\n",
              "    <tr style=\"text-align: right;\">\n",
              "      <th></th>\n",
              "      <th>job</th>\n",
              "      <th>marital</th>\n",
              "      <th>education</th>\n",
              "      <th>default</th>\n",
              "      <th>housing</th>\n",
              "      <th>loan</th>\n",
              "      <th>contact</th>\n",
              "      <th>month</th>\n",
              "      <th>day_of_week</th>\n",
              "      <th>poutcome</th>\n",
              "    </tr>\n",
              "  </thead>\n",
              "  <tbody>\n",
              "    <tr>\n",
              "      <th>0</th>\n",
              "      <td>housemaid</td>\n",
              "      <td>married</td>\n",
              "      <td>basic.4y</td>\n",
              "      <td>no</td>\n",
              "      <td>no</td>\n",
              "      <td>no</td>\n",
              "      <td>telephone</td>\n",
              "      <td>may</td>\n",
              "      <td>mon</td>\n",
              "      <td>nonexistent</td>\n",
              "    </tr>\n",
              "    <tr>\n",
              "      <th>1</th>\n",
              "      <td>services</td>\n",
              "      <td>married</td>\n",
              "      <td>high.school</td>\n",
              "      <td>unknown</td>\n",
              "      <td>no</td>\n",
              "      <td>no</td>\n",
              "      <td>telephone</td>\n",
              "      <td>may</td>\n",
              "      <td>mon</td>\n",
              "      <td>nonexistent</td>\n",
              "    </tr>\n",
              "    <tr>\n",
              "      <th>2</th>\n",
              "      <td>services</td>\n",
              "      <td>married</td>\n",
              "      <td>high.school</td>\n",
              "      <td>no</td>\n",
              "      <td>yes</td>\n",
              "      <td>no</td>\n",
              "      <td>telephone</td>\n",
              "      <td>may</td>\n",
              "      <td>mon</td>\n",
              "      <td>nonexistent</td>\n",
              "    </tr>\n",
              "    <tr>\n",
              "      <th>3</th>\n",
              "      <td>admin.</td>\n",
              "      <td>married</td>\n",
              "      <td>basic.6y</td>\n",
              "      <td>no</td>\n",
              "      <td>no</td>\n",
              "      <td>no</td>\n",
              "      <td>telephone</td>\n",
              "      <td>may</td>\n",
              "      <td>mon</td>\n",
              "      <td>nonexistent</td>\n",
              "    </tr>\n",
              "    <tr>\n",
              "      <th>4</th>\n",
              "      <td>services</td>\n",
              "      <td>married</td>\n",
              "      <td>high.school</td>\n",
              "      <td>no</td>\n",
              "      <td>no</td>\n",
              "      <td>yes</td>\n",
              "      <td>telephone</td>\n",
              "      <td>may</td>\n",
              "      <td>mon</td>\n",
              "      <td>nonexistent</td>\n",
              "    </tr>\n",
              "  </tbody>\n",
              "</table>\n",
              "</div>"
            ],
            "text/plain": [
              "         job  marital    education  default housing loan    contact month  \\\n",
              "0  housemaid  married     basic.4y       no      no   no  telephone   may   \n",
              "1   services  married  high.school  unknown      no   no  telephone   may   \n",
              "2   services  married  high.school       no     yes   no  telephone   may   \n",
              "3     admin.  married     basic.6y       no      no   no  telephone   may   \n",
              "4   services  married  high.school       no      no  yes  telephone   may   \n",
              "\n",
              "  day_of_week     poutcome  \n",
              "0         mon  nonexistent  \n",
              "1         mon  nonexistent  \n",
              "2         mon  nonexistent  \n",
              "3         mon  nonexistent  \n",
              "4         mon  nonexistent  "
            ]
          },
          "execution_count": 12,
          "metadata": {},
          "output_type": "execute_result"
        }
      ],
      "source": [
        "# creating x_categorical with columns containing only categorical variables\n",
        "X_categorical = X.drop(labels=['age','duration', 'campaign', 'pdays',\n",
        "                               'previous', 'emp.var.rate', 'cons.price.idx',\n",
        "                               'cons.conf.idx', 'euribor3m', 'nr.employed'], axis =1)  \n",
        "\n",
        "X_categorical.head()"
      ]
    },
    {
      "cell_type": "code",
      "execution_count": null,
      "metadata": {
        "id": "47bezkQHbZJI",
        "outputId": "9b71513c-4b2d-4fd0-8d58-cba55becc767"
      },
      "outputs": [
        {
          "data": {
            "text/html": [
              "<div>\n",
              "<style scoped>\n",
              "    .dataframe tbody tr th:only-of-type {\n",
              "        vertical-align: middle;\n",
              "    }\n",
              "\n",
              "    .dataframe tbody tr th {\n",
              "        vertical-align: top;\n",
              "    }\n",
              "\n",
              "    .dataframe thead th {\n",
              "        text-align: right;\n",
              "    }\n",
              "</style>\n",
              "<table border=\"1\" class=\"dataframe\">\n",
              "  <thead>\n",
              "    <tr style=\"text-align: right;\">\n",
              "      <th></th>\n",
              "      <th>age</th>\n",
              "      <th>duration</th>\n",
              "      <th>campaign</th>\n",
              "      <th>pdays</th>\n",
              "      <th>previous</th>\n",
              "      <th>emp.var.rate</th>\n",
              "      <th>cons.price.idx</th>\n",
              "      <th>cons.conf.idx</th>\n",
              "      <th>euribor3m</th>\n",
              "      <th>nr.employed</th>\n",
              "    </tr>\n",
              "  </thead>\n",
              "  <tbody>\n",
              "    <tr>\n",
              "      <th>0</th>\n",
              "      <td>56</td>\n",
              "      <td>261</td>\n",
              "      <td>1</td>\n",
              "      <td>999</td>\n",
              "      <td>0</td>\n",
              "      <td>1.1</td>\n",
              "      <td>93.994</td>\n",
              "      <td>-36.4</td>\n",
              "      <td>4.857</td>\n",
              "      <td>5191.0</td>\n",
              "    </tr>\n",
              "    <tr>\n",
              "      <th>1</th>\n",
              "      <td>57</td>\n",
              "      <td>149</td>\n",
              "      <td>1</td>\n",
              "      <td>999</td>\n",
              "      <td>0</td>\n",
              "      <td>1.1</td>\n",
              "      <td>93.994</td>\n",
              "      <td>-36.4</td>\n",
              "      <td>4.857</td>\n",
              "      <td>5191.0</td>\n",
              "    </tr>\n",
              "    <tr>\n",
              "      <th>2</th>\n",
              "      <td>37</td>\n",
              "      <td>226</td>\n",
              "      <td>1</td>\n",
              "      <td>999</td>\n",
              "      <td>0</td>\n",
              "      <td>1.1</td>\n",
              "      <td>93.994</td>\n",
              "      <td>-36.4</td>\n",
              "      <td>4.857</td>\n",
              "      <td>5191.0</td>\n",
              "    </tr>\n",
              "    <tr>\n",
              "      <th>3</th>\n",
              "      <td>40</td>\n",
              "      <td>151</td>\n",
              "      <td>1</td>\n",
              "      <td>999</td>\n",
              "      <td>0</td>\n",
              "      <td>1.1</td>\n",
              "      <td>93.994</td>\n",
              "      <td>-36.4</td>\n",
              "      <td>4.857</td>\n",
              "      <td>5191.0</td>\n",
              "    </tr>\n",
              "    <tr>\n",
              "      <th>4</th>\n",
              "      <td>56</td>\n",
              "      <td>307</td>\n",
              "      <td>1</td>\n",
              "      <td>999</td>\n",
              "      <td>0</td>\n",
              "      <td>1.1</td>\n",
              "      <td>93.994</td>\n",
              "      <td>-36.4</td>\n",
              "      <td>4.857</td>\n",
              "      <td>5191.0</td>\n",
              "    </tr>\n",
              "  </tbody>\n",
              "</table>\n",
              "</div>"
            ],
            "text/plain": [
              "   age  duration  campaign  pdays  previous  emp.var.rate  cons.price.idx  \\\n",
              "0   56       261         1    999         0           1.1          93.994   \n",
              "1   57       149         1    999         0           1.1          93.994   \n",
              "2   37       226         1    999         0           1.1          93.994   \n",
              "3   40       151         1    999         0           1.1          93.994   \n",
              "4   56       307         1    999         0           1.1          93.994   \n",
              "\n",
              "   cons.conf.idx  euribor3m  nr.employed  \n",
              "0          -36.4      4.857       5191.0  \n",
              "1          -36.4      4.857       5191.0  \n",
              "2          -36.4      4.857       5191.0  \n",
              "3          -36.4      4.857       5191.0  \n",
              "4          -36.4      4.857       5191.0  "
            ]
          },
          "execution_count": 13,
          "metadata": {},
          "output_type": "execute_result"
        }
      ],
      "source": [
        "# Creating x_categorical with columns containing only categorical variables\n",
        "X_continuous = X.loc[:, ['age','duration', 'campaign', 'pdays',\n",
        "                   'previous', 'emp.var.rate', 'cons.price.idx',\n",
        "                   'cons.conf.idx', 'euribor3m', 'nr.employed'] ]\n",
        "\n",
        "X_continuous.head()"
      ]
    },
    {
      "cell_type": "code",
      "execution_count": null,
      "metadata": {
        "id": "4fblhtadbZJK",
        "outputId": "c3e12bde-1f81-4583-867d-da941750b8b0"
      },
      "outputs": [
        {
          "data": {
            "text/html": [
              "<div>\n",
              "<style scoped>\n",
              "    .dataframe tbody tr th:only-of-type {\n",
              "        vertical-align: middle;\n",
              "    }\n",
              "\n",
              "    .dataframe tbody tr th {\n",
              "        vertical-align: top;\n",
              "    }\n",
              "\n",
              "    .dataframe thead th {\n",
              "        text-align: right;\n",
              "    }\n",
              "</style>\n",
              "<table border=\"1\" class=\"dataframe\">\n",
              "  <thead>\n",
              "    <tr style=\"text-align: right;\">\n",
              "      <th></th>\n",
              "      <th>job_blue-collar</th>\n",
              "      <th>job_entrepreneur</th>\n",
              "      <th>job_housemaid</th>\n",
              "      <th>job_management</th>\n",
              "      <th>job_retired</th>\n",
              "      <th>job_self-employed</th>\n",
              "      <th>job_services</th>\n",
              "      <th>job_student</th>\n",
              "      <th>job_technician</th>\n",
              "      <th>job_unemployed</th>\n",
              "      <th>...</th>\n",
              "      <th>month_may</th>\n",
              "      <th>month_nov</th>\n",
              "      <th>month_oct</th>\n",
              "      <th>month_sep</th>\n",
              "      <th>day_of_week_mon</th>\n",
              "      <th>day_of_week_thu</th>\n",
              "      <th>day_of_week_tue</th>\n",
              "      <th>day_of_week_wed</th>\n",
              "      <th>poutcome_nonexistent</th>\n",
              "      <th>poutcome_success</th>\n",
              "    </tr>\n",
              "  </thead>\n",
              "  <tbody>\n",
              "    <tr>\n",
              "      <th>0</th>\n",
              "      <td>0</td>\n",
              "      <td>0</td>\n",
              "      <td>1</td>\n",
              "      <td>0</td>\n",
              "      <td>0</td>\n",
              "      <td>0</td>\n",
              "      <td>0</td>\n",
              "      <td>0</td>\n",
              "      <td>0</td>\n",
              "      <td>0</td>\n",
              "      <td>...</td>\n",
              "      <td>1</td>\n",
              "      <td>0</td>\n",
              "      <td>0</td>\n",
              "      <td>0</td>\n",
              "      <td>1</td>\n",
              "      <td>0</td>\n",
              "      <td>0</td>\n",
              "      <td>0</td>\n",
              "      <td>1</td>\n",
              "      <td>0</td>\n",
              "    </tr>\n",
              "    <tr>\n",
              "      <th>1</th>\n",
              "      <td>0</td>\n",
              "      <td>0</td>\n",
              "      <td>0</td>\n",
              "      <td>0</td>\n",
              "      <td>0</td>\n",
              "      <td>0</td>\n",
              "      <td>1</td>\n",
              "      <td>0</td>\n",
              "      <td>0</td>\n",
              "      <td>0</td>\n",
              "      <td>...</td>\n",
              "      <td>1</td>\n",
              "      <td>0</td>\n",
              "      <td>0</td>\n",
              "      <td>0</td>\n",
              "      <td>1</td>\n",
              "      <td>0</td>\n",
              "      <td>0</td>\n",
              "      <td>0</td>\n",
              "      <td>1</td>\n",
              "      <td>0</td>\n",
              "    </tr>\n",
              "    <tr>\n",
              "      <th>2</th>\n",
              "      <td>0</td>\n",
              "      <td>0</td>\n",
              "      <td>0</td>\n",
              "      <td>0</td>\n",
              "      <td>0</td>\n",
              "      <td>0</td>\n",
              "      <td>1</td>\n",
              "      <td>0</td>\n",
              "      <td>0</td>\n",
              "      <td>0</td>\n",
              "      <td>...</td>\n",
              "      <td>1</td>\n",
              "      <td>0</td>\n",
              "      <td>0</td>\n",
              "      <td>0</td>\n",
              "      <td>1</td>\n",
              "      <td>0</td>\n",
              "      <td>0</td>\n",
              "      <td>0</td>\n",
              "      <td>1</td>\n",
              "      <td>0</td>\n",
              "    </tr>\n",
              "    <tr>\n",
              "      <th>3</th>\n",
              "      <td>0</td>\n",
              "      <td>0</td>\n",
              "      <td>0</td>\n",
              "      <td>0</td>\n",
              "      <td>0</td>\n",
              "      <td>0</td>\n",
              "      <td>0</td>\n",
              "      <td>0</td>\n",
              "      <td>0</td>\n",
              "      <td>0</td>\n",
              "      <td>...</td>\n",
              "      <td>1</td>\n",
              "      <td>0</td>\n",
              "      <td>0</td>\n",
              "      <td>0</td>\n",
              "      <td>1</td>\n",
              "      <td>0</td>\n",
              "      <td>0</td>\n",
              "      <td>0</td>\n",
              "      <td>1</td>\n",
              "      <td>0</td>\n",
              "    </tr>\n",
              "    <tr>\n",
              "      <th>4</th>\n",
              "      <td>0</td>\n",
              "      <td>0</td>\n",
              "      <td>0</td>\n",
              "      <td>0</td>\n",
              "      <td>0</td>\n",
              "      <td>0</td>\n",
              "      <td>1</td>\n",
              "      <td>0</td>\n",
              "      <td>0</td>\n",
              "      <td>0</td>\n",
              "      <td>...</td>\n",
              "      <td>1</td>\n",
              "      <td>0</td>\n",
              "      <td>0</td>\n",
              "      <td>0</td>\n",
              "      <td>1</td>\n",
              "      <td>0</td>\n",
              "      <td>0</td>\n",
              "      <td>0</td>\n",
              "      <td>1</td>\n",
              "      <td>0</td>\n",
              "    </tr>\n",
              "  </tbody>\n",
              "</table>\n",
              "<p>5 rows × 43 columns</p>\n",
              "</div>"
            ],
            "text/plain": [
              "   job_blue-collar  job_entrepreneur  job_housemaid  job_management  \\\n",
              "0                0                 0              1               0   \n",
              "1                0                 0              0               0   \n",
              "2                0                 0              0               0   \n",
              "3                0                 0              0               0   \n",
              "4                0                 0              0               0   \n",
              "\n",
              "   job_retired  job_self-employed  job_services  job_student  job_technician  \\\n",
              "0            0                  0             0            0               0   \n",
              "1            0                  0             1            0               0   \n",
              "2            0                  0             1            0               0   \n",
              "3            0                  0             0            0               0   \n",
              "4            0                  0             1            0               0   \n",
              "\n",
              "   job_unemployed        ...         month_may  month_nov  month_oct  \\\n",
              "0               0        ...                 1          0          0   \n",
              "1               0        ...                 1          0          0   \n",
              "2               0        ...                 1          0          0   \n",
              "3               0        ...                 1          0          0   \n",
              "4               0        ...                 1          0          0   \n",
              "\n",
              "   month_sep  day_of_week_mon  day_of_week_thu  day_of_week_tue  \\\n",
              "0          0                1                0                0   \n",
              "1          0                1                0                0   \n",
              "2          0                1                0                0   \n",
              "3          0                1                0                0   \n",
              "4          0                1                0                0   \n",
              "\n",
              "   day_of_week_wed  poutcome_nonexistent  poutcome_success  \n",
              "0                0                     1                 0  \n",
              "1                0                     1                 0  \n",
              "2                0                     1                 0  \n",
              "3                0                     1                 0  \n",
              "4                0                     1                 0  \n",
              "\n",
              "[5 rows x 43 columns]"
            ]
          },
          "execution_count": 14,
          "metadata": {},
          "output_type": "execute_result"
        }
      ],
      "source": [
        "# Creating Dummy Variables for X_categorical\n",
        "X_categorical = pd.get_dummies(X_categorical , drop_first=True)\n",
        "\n",
        "\n",
        "X_categorical.head()"
      ]
    },
    {
      "cell_type": "code",
      "execution_count": null,
      "metadata": {
        "id": "Sbmb932JbZJL",
        "outputId": "eb0e8a44-410a-4594-a8eb-b3360eee436a"
      },
      "outputs": [
        {
          "data": {
            "text/html": [
              "<div>\n",
              "<style scoped>\n",
              "    .dataframe tbody tr th:only-of-type {\n",
              "        vertical-align: middle;\n",
              "    }\n",
              "\n",
              "    .dataframe tbody tr th {\n",
              "        vertical-align: top;\n",
              "    }\n",
              "\n",
              "    .dataframe thead th {\n",
              "        text-align: right;\n",
              "    }\n",
              "</style>\n",
              "<table border=\"1\" class=\"dataframe\">\n",
              "  <thead>\n",
              "    <tr style=\"text-align: right;\">\n",
              "      <th></th>\n",
              "      <th>yes</th>\n",
              "    </tr>\n",
              "  </thead>\n",
              "  <tbody>\n",
              "    <tr>\n",
              "      <th>0</th>\n",
              "      <td>0</td>\n",
              "    </tr>\n",
              "    <tr>\n",
              "      <th>1</th>\n",
              "      <td>0</td>\n",
              "    </tr>\n",
              "    <tr>\n",
              "      <th>2</th>\n",
              "      <td>0</td>\n",
              "    </tr>\n",
              "    <tr>\n",
              "      <th>3</th>\n",
              "      <td>0</td>\n",
              "    </tr>\n",
              "    <tr>\n",
              "      <th>4</th>\n",
              "      <td>0</td>\n",
              "    </tr>\n",
              "  </tbody>\n",
              "</table>\n",
              "</div>"
            ],
            "text/plain": [
              "   yes\n",
              "0    0\n",
              "1    0\n",
              "2    0\n",
              "3    0\n",
              "4    0"
            ]
          },
          "execution_count": 15,
          "metadata": {},
          "output_type": "execute_result"
        }
      ],
      "source": [
        "# Creating Dummy Variables for variable y\n",
        "label_y = pd.get_dummies(y,drop_first=True)\n",
        "\n",
        "label_y.head()"
      ]
    },
    {
      "cell_type": "code",
      "execution_count": null,
      "metadata": {
        "id": "Jp_qcQfLbZJM",
        "outputId": "621094e5-b2cc-479f-e0bf-dc3105e5ba67"
      },
      "outputs": [
        {
          "name": "stdout",
          "output_type": "stream",
          "text": [
            "Label_y shape  ---   (41188,)\n"
          ]
        },
        {
          "data": {
            "text/plain": [
              "array([0, 0, 0, ..., 0, 1, 0], dtype=uint8)"
            ]
          },
          "execution_count": 16,
          "metadata": {},
          "output_type": "execute_result"
        }
      ],
      "source": [
        "# Converting y into numpy array of shape (41188,)\n",
        "label_y = label_y.values.reshape(41188,)\n",
        "print('Label_y shape  ---  ',label_y.shape)\n",
        "label_y"
      ]
    },
    {
      "cell_type": "markdown",
      "metadata": {
        "id": "5-nnfNw9bZJN"
      },
      "source": [
        "## Standardizing The Categorical Data\n",
        ">First we will scale the continuous data of X_continuous with sklearns StandardScalar and save the result in X_scaled variable. then we will concatenate X_scaled with X_categorical to create variable feature_X containing features to be feed in our machine learning model."
      ]
    },
    {
      "cell_type": "code",
      "execution_count": null,
      "metadata": {
        "id": "zttLVxYobZJQ",
        "outputId": "e93ea199-ecd2-452c-c449-4d9221a47320"
      },
      "outputs": [
        {
          "name": "stdout",
          "output_type": "stream",
          "text": [
            "Feature column Shape =   (41188, 53)\n"
          ]
        },
        {
          "data": {
            "text/plain": [
              "array([[ 1.53303429,  0.01047142, -0.56592197, ...,  0.        ,\n",
              "         1.        ,  0.        ],\n",
              "       [ 1.62899323, -0.42150051, -0.56592197, ...,  0.        ,\n",
              "         1.        ,  0.        ],\n",
              "       [-0.29018564, -0.12451981, -0.56592197, ...,  0.        ,\n",
              "         1.        ,  0.        ],\n",
              "       ...,\n",
              "       [ 1.53303429, -0.26722482, -0.20490853, ...,  0.        ,\n",
              "         1.        ,  0.        ],\n",
              "       [ 0.38152696,  0.70856893, -0.56592197, ...,  0.        ,\n",
              "         1.        ,  0.        ],\n",
              "       [ 3.26029527, -0.07438021,  0.15610492, ...,  0.        ,\n",
              "         0.        ,  0.        ]])"
            ]
          },
          "execution_count": 17,
          "metadata": {},
          "output_type": "execute_result"
        }
      ],
      "source": [
        "# importing StandardScalar from sklearn.preprocessing\n",
        "from sklearn.preprocessing import StandardScaler\n",
        "sc = StandardScaler()\n",
        "# scaling the X_continuous \n",
        "X_Scaled = sc.fit_transform(X_continuous)\n",
        "# concatenating X_scaled & X_categorical \n",
        "feature_X = np.concatenate((X_Scaled , X_categorical.values), axis = 1)\n",
        "\n",
        "print('Feature column Shape =  ',feature_X.shape)\n",
        "feature_X"
      ]
    },
    {
      "cell_type": "code",
      "execution_count": null,
      "metadata": {
        "id": "q_PPKpmwbZJS"
      },
      "outputs": [],
      "source": [
        "# Shuffling the data using sklearns Shuffle\n",
        "# And the splitting the data using train_test_split\n",
        "from sklearn.model_selection import train_test_split\n",
        "from sklearn.utils import shuffle\n",
        "\n",
        "feature_X , label_y = shuffle(feature_X , label_y , random_state = 1)\n",
        "X_train , X_test , y_train , y_test = train_test_split(feature_X , label_y , test_size = 0.2 , random_state = 0)"
      ]
    },
    {
      "cell_type": "code",
      "execution_count": null,
      "metadata": {
        "id": "fINElXgvbZJT",
        "outputId": "eb7bb27d-7258-4b9a-ddb2-260b9dadaff6"
      },
      "outputs": [
        {
          "name": "stdout",
          "output_type": "stream",
          "text": [
            "X_train Shape ---   (32950, 53)\n",
            "y_train Shape ---   (32950,)\n",
            "X_test Shape  ---   (8238, 53)\n",
            "y_test Shape  ---   (8238,)\n"
          ]
        }
      ],
      "source": [
        "# Printin Shape of Test and Train Data\n",
        "print('X_train Shape ---  ',X_train.shape)\n",
        "print('y_train Shape ---  ',y_train.shape)\n",
        "\n",
        "print('X_test Shape  ---  ',X_test.shape)\n",
        "print('y_test Shape  ---  ',y_test.shape)"
      ]
    },
    {
      "cell_type": "markdown",
      "metadata": {
        "id": "Thx50DW8bZJV"
      },
      "source": [
        "# Applying SVM , Logistic Regression , Random Forest and Naive Bayes for Classification."
      ]
    },
    {
      "cell_type": "markdown",
      "metadata": {
        "id": "w7mkqSAbbZJX"
      },
      "source": [
        ">## SVM Model For Classification"
      ]
    },
    {
      "cell_type": "code",
      "execution_count": null,
      "metadata": {
        "id": "ga-IBqqEbZJY",
        "outputId": "66b17964-e409-422b-eb18-60353262a822"
      },
      "outputs": [
        {
          "data": {
            "text/plain": [
              "SVC(C=1, cache_size=200, class_weight=None, coef0=0.0,\n",
              "  decision_function_shape='ovr', degree=3, gamma='auto', kernel='rbf',\n",
              "  max_iter=-1, probability=True, random_state=None, shrinking=True,\n",
              "  tol=0.001, verbose=False)"
            ]
          },
          "execution_count": 22,
          "metadata": {},
          "output_type": "execute_result"
        }
      ],
      "source": [
        "# Applying SVC model with Gaussian Kernel on X_train , y_train\n",
        "from sklearn.svm import SVC\n",
        "svc_classifier = SVC(kernel= 'rbf' , C=1 ,probability = True)\n",
        "svc_classifier.fit(X_train,y_train)"
      ]
    },
    {
      "cell_type": "code",
      "execution_count": null,
      "metadata": {
        "id": "yTRixxNFbZJZ",
        "outputId": "2953ece2-f13e-4909-c0a6-587eebfa2031"
      },
      "outputs": [
        {
          "name": "stdout",
          "output_type": "stream",
          "text": [
            "Confusion  Matrix :- \n",
            " [[7158  128]\n",
            " [ 605  347]]\n",
            "\n",
            " Accuracy =  91.10220927409566 %\n",
            "\n",
            " Classification Report :- \n",
            "               precision    recall  f1-score   support\n",
            "\n",
            "          0       0.92      0.98      0.95      7286\n",
            "          1       0.73      0.36      0.49       952\n",
            "\n",
            "avg / total       0.90      0.91      0.90      8238\n",
            "\n"
          ]
        }
      ],
      "source": [
        "# Testing model performance with Confussion Matrix and Classification Report \n",
        "from sklearn.metrics import confusion_matrix , classification_report\n",
        "\n",
        "svc_pred = svc_classifier.predict(X_test)\n",
        "\n",
        "svc_cm = confusion_matrix(y_test,svc_pred)\n",
        "print('Confusion  Matrix :- \\n', svc_cm)\n",
        "print('\\n Accuracy = ',(svc_cm[0][0] + svc_cm[1][1])/X_test.shape[0]*100,'%')\n",
        "svc_cr = classification_report(y_test,svc_pred)\n",
        "print('\\n Classification Report :- \\n ',svc_cr)"
      ]
    },
    {
      "cell_type": "code",
      "execution_count": null,
      "metadata": {
        "id": "pcnyJWeNbZJa",
        "outputId": "69d11300-8618-4f7c-fcba-cb712d8aeb39"
      },
      "outputs": [
        {
          "name": "stdout",
          "output_type": "stream",
          "text": [
            "Accuracies =  [0.91140777 0.90412621 0.91016692 0.907739   0.90804249 0.91229135\n",
            " 0.90227618 0.90986343 0.9058895  0.9058895 ]\n",
            "Mean Accuracy of SVM =  90.77692335360098 %\n",
            "Standard Deviation = 0.003072632524062179\n"
          ]
        }
      ],
      "source": [
        "# Applying k-Fold Cross Validation\n",
        "from sklearn.model_selection import cross_val_score\n",
        "SVC_accuracies = cross_val_score(estimator = svc_classifier, X = X_train, y = y_train, cv = 10)\n",
        "print('Accuracies = ',SVC_accuracies)\n",
        "print('Mean Accuracy of SVM = ',SVC_accuracies.mean()*100,'%')\n",
        "print('Standard Deviation =',SVC_accuracies.std())"
      ]
    },
    {
      "cell_type": "markdown",
      "metadata": {
        "id": "IyGiGLjtbZJc"
      },
      "source": [
        "># Logistic Regression Model"
      ]
    },
    {
      "cell_type": "code",
      "execution_count": null,
      "metadata": {
        "id": "V9S-SFoCbZJc",
        "outputId": "27b23dc0-3079-42c4-9f88-d3922d68f00b"
      },
      "outputs": [
        {
          "data": {
            "text/plain": [
              "LogisticRegression(C=0.9, class_weight=None, dual=False, fit_intercept=True,\n",
              "          intercept_scaling=1, max_iter=100, multi_class='ovr', n_jobs=1,\n",
              "          penalty='l1', random_state=None, solver='liblinear', tol=0.0001,\n",
              "          verbose=0, warm_start=False)"
            ]
          },
          "execution_count": 24,
          "metadata": {},
          "output_type": "execute_result"
        }
      ],
      "source": [
        "# Applying Logistic Regression model on X_train , y_train\n",
        "from sklearn.linear_model import LogisticRegression\n",
        "log_classifier = LogisticRegression(penalty='l1',C=0.9)\n",
        "log_classifier.fit(X_train,y_train)"
      ]
    },
    {
      "cell_type": "code",
      "execution_count": null,
      "metadata": {
        "id": "bagQVicdbZJd",
        "outputId": "c6a36998-9e76-46c3-8d62-514050955c36"
      },
      "outputs": [
        {
          "name": "stdout",
          "output_type": "stream",
          "text": [
            "Confusion  Matrix :- \n",
            " [[7096  190]\n",
            " [ 536  416]]\n",
            "\n",
            " Accuracy =  91.18718135469774 %\n",
            "\n",
            " Classification Report :- \n",
            "               precision    recall  f1-score   support\n",
            "\n",
            "          0       0.93      0.97      0.95      7286\n",
            "          1       0.69      0.44      0.53       952\n",
            "\n",
            "avg / total       0.90      0.91      0.90      8238\n",
            "\n"
          ]
        }
      ],
      "source": [
        "# Testing model performance with Confussion Matrix and Classification Report \n",
        "from sklearn.metrics import confusion_matrix , classification_report\n",
        "\n",
        "log_pred = log_classifier.predict(X_test)\n",
        "\n",
        "log_cm = confusion_matrix(y_test,log_pred)\n",
        "print('Confusion  Matrix :- \\n', log_cm)\n",
        "print('\\n Accuracy = ',(log_cm[0][0] + log_cm[1][1])/X_test.shape[0]*100,'%')\n",
        "log_cr = classification_report(y_test,log_pred)\n",
        "print('\\n Classification Report :- \\n ',log_cr)"
      ]
    },
    {
      "cell_type": "code",
      "execution_count": null,
      "metadata": {
        "id": "fw829XOUbZJe",
        "outputId": "64c3e005-ec20-4bc6-a5a0-c2444d99d6e1"
      },
      "outputs": [
        {
          "name": "stdout",
          "output_type": "stream",
          "text": [
            "Accuracies =  [0.91595874 0.9065534  0.91259484 0.91320182 0.91047041 0.91138088\n",
            " 0.90440061 0.91289833 0.90801457 0.91165756]\n",
            "Mean Accuracy of Logistic Regression =  91.07131156295972 %\n",
            "Standard Deviation = 0.0032841468326297134\n"
          ]
        }
      ],
      "source": [
        "# Applying k-Fold Cross Validation\n",
        "from sklearn.model_selection import cross_val_score\n",
        "log_accuracies = cross_val_score(estimator = log_classifier, X = X_train, y = y_train, cv = 10)\n",
        "print('Accuracies = ',log_accuracies)\n",
        "print('Mean Accuracy of Logistic Regression = ',log_accuracies.mean()*100,'%')\n",
        "print('Standard Deviation =',log_accuracies.std())"
      ]
    },
    {
      "cell_type": "markdown",
      "metadata": {
        "id": "qN8-N1xMbZJf"
      },
      "source": [
        "># Random Forest Classifier Model"
      ]
    },
    {
      "cell_type": "code",
      "execution_count": null,
      "metadata": {
        "id": "_1nv8T9hbZJg",
        "outputId": "43b239bc-95cf-41bd-cfff-0910f2567c18"
      },
      "outputs": [
        {
          "name": "stderr",
          "output_type": "stream",
          "text": [
            "C:\\Users\\saif\\Anaconda3\\envs\\tensorflow\\lib\\site-packages\\sklearn\\ensemble\\weight_boosting.py:29: DeprecationWarning: numpy.core.umath_tests is an internal NumPy module and should not be imported. It will be removed in a future NumPy release.\n",
            "  from numpy.core.umath_tests import inner1d\n"
          ]
        },
        {
          "data": {
            "text/plain": [
              "RandomForestClassifier(bootstrap=True, class_weight=None, criterion='gini',\n",
              "            max_depth=None, max_features='auto', max_leaf_nodes=None,\n",
              "            min_impurity_decrease=0.0, min_impurity_split=None,\n",
              "            min_samples_leaf=1, min_samples_split=2,\n",
              "            min_weight_fraction_leaf=0.0, n_estimators=300, n_jobs=1,\n",
              "            oob_score=False, random_state=None, verbose=0,\n",
              "            warm_start=False)"
            ]
          },
          "execution_count": 27,
          "metadata": {},
          "output_type": "execute_result"
        }
      ],
      "source": [
        "from sklearn.ensemble import RandomForestClassifier\n",
        "rf_classifier = RandomForestClassifier(n_estimators = 300 , criterion = 'gini')\n",
        "rf_classifier.fit(X_train,y_train)"
      ]
    },
    {
      "cell_type": "code",
      "execution_count": null,
      "metadata": {
        "id": "6qHyVJFabZJh",
        "outputId": "e2abc3ff-5c3a-46bf-f80b-dde3b6c20bfa"
      },
      "outputs": [
        {
          "name": "stdout",
          "output_type": "stream",
          "text": [
            "Confusion  Matrix :- \n",
            " [[7028  258]\n",
            " [ 473  479]]\n",
            "\n",
            " Accuracy =  91.12648701141055 %\n",
            "\n",
            " Classification Report :- \n",
            "               precision    recall  f1-score   support\n",
            "\n",
            "          0       0.94      0.96      0.95      7286\n",
            "          1       0.65      0.50      0.57       952\n",
            "\n",
            "avg / total       0.90      0.91      0.91      8238\n",
            "\n"
          ]
        }
      ],
      "source": [
        "# Testing model performance with Confussion Matrix and Classification Report \n",
        "from sklearn.metrics import confusion_matrix , classification_report\n",
        "\n",
        "rf_pred = rf_classifier.predict(X_test)\n",
        "\n",
        "rf_cm = confusion_matrix(y_test,rf_pred)\n",
        "print('Confusion  Matrix :- \\n', rf_cm)\n",
        "print('\\n Accuracy = ',(rf_cm[0][0] + rf_cm[1][1])/X_test.shape[0]*100,'%')\n",
        "rf_cr = classification_report(y_test,rf_pred)\n",
        "print('\\n Classification Report :- \\n ',rf_cr)"
      ]
    },
    {
      "cell_type": "code",
      "execution_count": null,
      "metadata": {
        "id": "QgpTegANbZJi",
        "outputId": "f224f507-4ba5-4375-bf14-43f99298051b"
      },
      "outputs": [
        {
          "name": "stdout",
          "output_type": "stream",
          "text": [
            "Accuracies =  [0.92050971 0.90867718 0.9168437  0.91593323 0.91198786 0.91350531\n",
            " 0.91168437 0.91654021 0.91074681 0.91924712]\n",
            "Mean Accuracy of Random Forest Classifier =  91.45675510481078 %\n",
            "Standard Deviation = 0.003654247679623487\n"
          ]
        }
      ],
      "source": [
        "# Applying k-Fold Cross Validation\n",
        "from sklearn.model_selection import cross_val_score\n",
        "rf_accuracies = cross_val_score(estimator = rf_classifier, X = X_train, y = y_train, cv = 10)\n",
        "print('Accuracies = ',rf_accuracies)\n",
        "print('Mean Accuracy of Random Forest Classifier = ',rf_accuracies.mean()*100,'%')\n",
        "print('Standard Deviation =',rf_accuracies.std())"
      ]
    },
    {
      "cell_type": "markdown",
      "metadata": {
        "id": "mby95PwxbZJj"
      },
      "source": [
        "># Naive Bayes Model"
      ]
    },
    {
      "cell_type": "code",
      "execution_count": null,
      "metadata": {
        "id": "0kuWcEXUbZJj",
        "outputId": "2b565557-028d-4c73-d997-27922d004b1c"
      },
      "outputs": [
        {
          "data": {
            "text/plain": [
              "GaussianNB(priors=None)"
            ]
          },
          "execution_count": 30,
          "metadata": {},
          "output_type": "execute_result"
        }
      ],
      "source": [
        "# Applying Naive Bayes model on X_train , y_train\n",
        "from sklearn.naive_bayes import GaussianNB\n",
        "nb_classifier = GaussianNB()\n",
        "nb_classifier.fit(X_train,y_train)"
      ]
    },
    {
      "cell_type": "code",
      "execution_count": null,
      "metadata": {
        "id": "JPA1YASPbZJj",
        "outputId": "fbe9be49-58b4-4f98-e168-a90a8f26c86e"
      },
      "outputs": [
        {
          "name": "stdout",
          "output_type": "stream",
          "text": [
            "Confusion Matrix :- \n",
            " [[6256 1030]\n",
            " [ 373  579]]\n",
            "\n",
            " Accuracy =  82.9691672736101 %\n",
            "\n",
            " Classification Report :- \n",
            "               precision    recall  f1-score   support\n",
            "\n",
            "          0       0.94      0.86      0.90      7286\n",
            "          1       0.36      0.61      0.45       952\n",
            "\n",
            "avg / total       0.88      0.83      0.85      8238\n",
            "\n"
          ]
        }
      ],
      "source": [
        "# Testing model performance with Confussion Matrix and Classification Report \n",
        "from sklearn.metrics import confusion_matrix , classification_report\n",
        "\n",
        "nb_pred = nb_classifier.predict(X_test)\n",
        "\n",
        "nb_cm = confusion_matrix(y_test,nb_pred)\n",
        "print('Confusion Matrix :- \\n', nb_cm)\n",
        "print('\\n Accuracy = ',(nb_cm[0][0] + nb_cm[1][1])/X_test.shape[0]*100,'%')\n",
        "nb_cr = classification_report(y_test,nb_pred)\n",
        "print('\\n Classification Report :- \\n ',nb_cr)"
      ]
    },
    {
      "cell_type": "code",
      "execution_count": null,
      "metadata": {
        "id": "9YGBB3_-bZJk",
        "outputId": "f661e535-c770-4142-9c2e-5a465364f0b2"
      },
      "outputs": [
        {
          "name": "stdout",
          "output_type": "stream",
          "text": [
            "Accuracies =  [0.84739078 0.84496359 0.83884674 0.84218513 0.84218513 0.82185129\n",
            " 0.83034901 0.84097117 0.83879781 0.84031573]\n",
            "Mean Accuracy of  Naive Bayes =  83.87856376076127 %\n",
            "Standard Deviation = 0.0070738884583537815\n"
          ]
        }
      ],
      "source": [
        "# Applying k-Fold Cross Validation\n",
        "from sklearn.model_selection import cross_val_score\n",
        "nb_accuracies = cross_val_score(estimator = nb_classifier, X = X_train, y = y_train, cv = 10)\n",
        "print('Accuracies = ',nb_accuracies)\n",
        "print('Mean Accuracy of  Naive Bayes = ',nb_accuracies.mean()*100,'%')\n",
        "print('Standard Deviation =',nb_accuracies.std())"
      ]
    },
    {
      "cell_type": "markdown",
      "metadata": {
        "id": "nxsx2uBLbZJk"
      },
      "source": [
        "# Plotting ROC-AUC curve for Different Classification Model\n",
        ">ROC curve of different models is plotted and AUC is calculated and displayed in the graph for evaluation of performance of the models."
      ]
    },
    {
      "cell_type": "code",
      "execution_count": null,
      "metadata": {
        "id": "N9h9qgDebZJl",
        "outputId": "bd3617dc-51d8-4292-a814-72248dfc1ac3"
      },
      "outputs": [
        {
          "name": "stdout",
          "output_type": "stream",
          "text": [
            "y_svc_prob shape :  (8238,)\n",
            "y_log_prob shape :  (8238,)\n",
            "y_nb_prob shape  :  (8238,)\n",
            "y_rf_prob shape  :  (8238,)\n"
          ]
        }
      ],
      "source": [
        "# Calculating the predicted value in terms of Probability\n",
        "y_svc_prob = svc_classifier.predict_proba(X_test)[::,1]\n",
        "y_log_prob = log_classifier.predict_proba(X_test)[::,1]\n",
        "y_nb_prob  = nb_classifier.predict_proba(X_test)[::,1]\n",
        "y_rf_prob  = rf_classifier.predict_proba(X_test)[::,1]\n",
        "\n",
        "# Printing the shape of predicted probable values\n",
        "print('y_svc_prob shape : ',y_svc_prob.shape)\n",
        "print('y_log_prob shape : ',y_log_prob.shape)\n",
        "print('y_nb_prob shape  : ',y_nb_prob.shape)\n",
        "print('y_rf_prob shape  : ',y_rf_prob.shape)"
      ]
    },
    {
      "cell_type": "code",
      "execution_count": null,
      "metadata": {
        "id": "aLK6zklfbZJl",
        "outputId": "37eaa7a6-8567-4ae8-8c06-43075584de15"
      },
      "outputs": [
        {
          "data": {
            "image/png": "[encoded data removed]",
            "text/plain": [
              "<Figure size 840x720 with 1 Axes>"
            ]
          },
          "metadata": {},
          "output_type": "display_data"
        }
      ],
      "source": [
        "from sklearn import metrics\n",
        "\n",
        "# Calculating FPR & TPR\n",
        "svc_fpr,svc_tpr,_ = metrics.roc_curve(y_test,y_svc_prob)\n",
        "log_fpr,log_tpr,_ = metrics.roc_curve(y_test,y_log_prob)\n",
        "nb_fpr,nb_tpr,_   = metrics.roc_curve(y_test,y_nb_prob)\n",
        "rf_fpr,rf_tpr,_   = metrics.roc_curve(y_test,y_rf_prob)\n",
        "\n",
        "# Calculating AUC of different models\n",
        "svc_auc = metrics.roc_auc_score(y_test,y_svc_prob)\n",
        "log_auc = metrics.roc_auc_score(y_test,y_log_prob)\n",
        "nb_auc  = metrics.roc_auc_score(y_test,y_nb_prob)\n",
        "rf_auc  = metrics.roc_auc_score(y_test,y_rf_prob)\n",
        "\n",
        "# Plotting the ROC curve and displaying AUC \n",
        "fig , axes = plt.subplots(nrows = 1 , ncols = 1,figsize = (7,6) , dpi = 120,facecolor='0.9')\n",
        "plt.plot(svc_fpr,svc_tpr,'r',label='SVM Classifier          , auc='+str(svc_auc))\n",
        "axes.plot(log_fpr,log_tpr,'g',label='Logistic Regression    , auc='+str(log_auc))\n",
        "axes.plot(nb_fpr,nb_tpr,'b',label='Naive-Bayes Classifier   , auc='+str(nb_auc))\n",
        "axes.plot(rf_fpr,rf_tpr,'y',label='Random-Forest Classifier , auc='+str(rf_auc))\n",
        "\n",
        "axes.set_title('ROC-AUC Curve Of Different Models')\n",
        "axes.set_xlabel('<-----   FPR   ------>')\n",
        "axes.set_ylabel('<-----   TPR   ------>')\n",
        "axes.grid(linestyle='--', linewidth=0.5)\n",
        "\n",
        "plt.tight_layout()\n",
        "plt.legend()\n",
        "plt.show()"
      ]
    },
    {
      "cell_type": "markdown",
      "metadata": {
        "id": "2Rt6VGH2bZJm"
      },
      "source": [
        "# Conclusion - \n",
        "\n",
        ">>### Accuracies & ROC-AUC score of Different Machine Learing Models after applying K - Fold Cross Validation and plotting ROC curve are -\n",
        "\n",
        ">><br>\n",
        "Mean Accuracy of SVM                      = 90.77692335360098 % <br> \n",
        "AUC of SVM                                = 0.9231704004687245 <br>\n",
        "<br>\n",
        "Mean Accuracy of Logistic Regression      = 91.06827574025176 % <br>\n",
        "AUC of Logistic Regression                = 0.9362594200458114 <br>\n",
        "<br>\n",
        "Mean Accuracy of Random Forest Classifier = 91.46283135526072 % <br>\n",
        "AUC of Random Forest Classifier           = 0.9459129486271587 <br>\n",
        "<br>\n",
        "Mean Accuracy of  Naive Bayes             = 83.87856376076127 % <br>\n",
        "AUC of Naive Bayes                        = 0.8295982337486187 <br>"
      ]
    }
  ],
  "metadata": {
    "kernelspec": {
      "display_name": "Python 3",
      "language": "python",
      "name": "python3"
    },
    "language_info": {
      "codemirror_mode": {
        "name": "ipython",
        "version": 3
      },
      "file_extension": ".py",
      "mimetype": "text/x-python",
      "name": "python",
      "nbconvert_exporter": "python",
      "pygments_lexer": "ipython3",
      "version": "3.5.5"
    },
    "colab": {
      "name": "Bank Marketing Data Analysis.ipynb",
      "provenance": []
    }
  },
  "nbformat": 4,
  "nbformat_minor": 0
}
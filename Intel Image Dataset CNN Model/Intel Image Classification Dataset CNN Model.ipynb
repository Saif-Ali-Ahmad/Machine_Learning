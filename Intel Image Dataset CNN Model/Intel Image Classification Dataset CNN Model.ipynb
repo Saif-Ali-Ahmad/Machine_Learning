{
 "cells": [
  {
   "cell_type": "markdown",
   "id": "9582a90d",
   "metadata": {},
   "source": [
    "># Image Classification Model For Intel Image Classification Dataset based on Convolutional Neural Networks. \n",
    ">>##### By - Saif Ali Ahmad\n",
    "Discription about dataset - This image data set focuses on natural scenes. It was created by Intel for an image classification competition.<br><br>\n",
    "Dataset Details : There are approximately 25,000 images.Images are grouped into categories such as buildings, forests, glaciers, mountains, seas, and streets.<br><br> \n",
    "Dataset is divided into folders for training, testing, and prediction:<br><br>\n",
    "14,000 training images<br>\n",
    "3,000 validation images<br>\n",
    "7,000 test images-<br><br>\n",
    "\n",
    ">URL for data set - https://www.kaggle.com/datasets/puneet6060/intel-image-classification"
   ]
  },
  {
   "cell_type": "markdown",
   "id": "c90edb8e",
   "metadata": {},
   "source": [
    "#### Importing the libraries"
   ]
  },
  {
   "cell_type": "code",
   "execution_count": 1,
   "id": "17c8352e",
   "metadata": {},
   "outputs": [],
   "source": [
    "# importing important libraries\n",
    "import tensorflow as tf\n",
    "import pandas as pd\n",
    "import numpy as np\n",
    "import PIL\n",
    "import matplotlib.pyplot as plt\n",
    "plt.style.use('ggplot')\n",
    "import seaborn as sns"
   ]
  },
  {
   "cell_type": "code",
   "execution_count": 2,
   "id": "dfb22a96",
   "metadata": {},
   "outputs": [
    {
     "data": {
      "text/plain": [
       "'2.10.1'"
      ]
     },
     "execution_count": 2,
     "metadata": {},
     "output_type": "execute_result"
    }
   ],
   "source": [
    "# displaying tensorflow version\n",
    "tf.__version__"
   ]
  },
  {
   "cell_type": "markdown",
   "id": "4f1a20a2",
   "metadata": {},
   "source": [
    "#### Confirming the avaibility of GPU"
   ]
  },
  {
   "cell_type": "code",
   "execution_count": 3,
   "id": "52f51887",
   "metadata": {},
   "outputs": [],
   "source": [
    "# searching for GPU in the system\n",
    "gpu_devices = tf.config.list_physical_devices('GPU')\n",
    "if gpu_devices:\n",
    "  gpu_details = tf.config.experimental.get_device_details(gpu_devices[0])\n",
    "  gpu_details.get('device_name', 'Unknown GPU')"
   ]
  },
  {
   "cell_type": "code",
   "execution_count": 4,
   "id": "d24c6a61",
   "metadata": {},
   "outputs": [
    {
     "name": "stdout",
     "output_type": "stream",
     "text": [
      "Name Of GPU Device               : NVIDIA GeForce RTX 3050 Laptop GPU\n",
      "Compute Capability Of GPU Device : (8, 6)\n"
     ]
    }
   ],
   "source": [
    "# Displaying the details of available GPU\n",
    "print('Name Of GPU Device               :',gpu_details['device_name'])\n",
    "print('Compute Capability Of GPU Device :',gpu_details['compute_capability'])"
   ]
  },
  {
   "cell_type": "markdown",
   "id": "4df65a9d",
   "metadata": {},
   "source": [
    "## Part 1 - Importing and Preprocessing the Images"
   ]
  },
  {
   "cell_type": "code",
   "execution_count": 5,
   "id": "5ba247ee",
   "metadata": {},
   "outputs": [],
   "source": [
    "# Importing the ImageDataGenerator class for preprocessing and loading the images\n",
    "from keras.preprocessing.image import ImageDataGenerator"
   ]
  },
  {
   "cell_type": "markdown",
   "id": "018348cf",
   "metadata": {},
   "source": [
    "> ##### Defining the Batch Size"
   ]
  },
  {
   "cell_type": "code",
   "execution_count": 6,
   "id": "c98a77f4",
   "metadata": {},
   "outputs": [],
   "source": [
    "# Defining the batch size \n",
    "batchSize = 32"
   ]
  },
  {
   "cell_type": "markdown",
   "id": "004c0368",
   "metadata": {},
   "source": [
    "> ### Importing and Preprocessing the Training set"
   ]
  },
  {
   "cell_type": "code",
   "execution_count": 7,
   "id": "47dc3b07",
   "metadata": {},
   "outputs": [],
   "source": [
    "# Preprocessing the train set\n",
    "train_datagen = ImageDataGenerator(rescale = 1./255,\n",
    "                                   shear_range = 0.2,\n",
    "                                   zoom_range = 0.2,\n",
    "                                   horizontal_flip = True)\n"
   ]
  },
  {
   "cell_type": "code",
   "execution_count": 8,
   "id": "b3f4e54a",
   "metadata": {},
   "outputs": [
    {
     "name": "stdout",
     "output_type": "stream",
     "text": [
      "Found 14034 images belonging to 6 classes.\n"
     ]
    }
   ],
   "source": [
    "# Importing the training set and preprocessing it\n",
    "training_set = train_datagen.flow_from_directory('D:\\\\Intel Image Dataset CNN Model\\\\Intel_Dataset\\\\train_set',\n",
    "                                                 target_size = (64, 64),\n",
    "                                                 batch_size = batchSize,\n",
    "                                                 class_mode = 'categorical')"
   ]
  },
  {
   "cell_type": "markdown",
   "id": "44d21aa9",
   "metadata": {},
   "source": [
    "> ### Importing and Preprocessing the Test set"
   ]
  },
  {
   "cell_type": "code",
   "execution_count": 9,
   "id": "223b1b52",
   "metadata": {},
   "outputs": [],
   "source": [
    "# Preprocessing the test set\n",
    "test_datagen = ImageDataGenerator(rescale = 1./255)"
   ]
  },
  {
   "cell_type": "code",
   "execution_count": 10,
   "id": "3f912e23",
   "metadata": {},
   "outputs": [
    {
     "name": "stdout",
     "output_type": "stream",
     "text": [
      "Found 3000 images belonging to 6 classes.\n"
     ]
    }
   ],
   "source": [
    "# Importing the training set and preprocessing it\n",
    "test_set = test_datagen.flow_from_directory('D:\\\\Intel Image Dataset CNN Model\\\\Intel_Dataset\\\\test_set',\n",
    "                                            target_size = (64, 64),\n",
    "                                            batch_size = batchSize,\n",
    "                                            class_mode = 'categorical')"
   ]
  },
  {
   "cell_type": "markdown",
   "id": "fa37f5d7",
   "metadata": {},
   "source": [
    "## Part 2 - Building the CNN"
   ]
  },
  {
   "cell_type": "markdown",
   "id": "fdf2715f",
   "metadata": {},
   "source": [
    "#### Initialising the CNN"
   ]
  },
  {
   "cell_type": "code",
   "execution_count": 11,
   "id": "be19b672",
   "metadata": {},
   "outputs": [],
   "source": [
    "# initializing the keras sequention model\n",
    "cnn = tf.keras.models.Sequential()"
   ]
  },
  {
   "cell_type": "markdown",
   "id": "a40118ff",
   "metadata": {},
   "source": [
    "### Step 1 - Creating Convolution Layers"
   ]
  },
  {
   "cell_type": "markdown",
   "id": "b77cfb67",
   "metadata": {},
   "source": [
    "> #### Creating the First Convolutional layer"
   ]
  },
  {
   "cell_type": "code",
   "execution_count": 12,
   "id": "29c3e95a",
   "metadata": {},
   "outputs": [],
   "source": [
    "# Adding the first connvolution layer\n",
    "cnn.add(tf.keras.layers.Conv2D(filters=64, kernel_size=3, activation='relu', input_shape=[64, 64, 3]))\n",
    "# Adding Batch Normalization layer\n",
    "cnn.add(tf.keras.layers.BatchNormalization())\n",
    "# Adding the first Pooling Layer\n",
    "cnn.add(tf.keras.layers.MaxPool2D(pool_size=2, strides=2))"
   ]
  },
  {
   "cell_type": "markdown",
   "id": "281c89d5",
   "metadata": {},
   "source": [
    "> #### Creating the Second Convolutional layer"
   ]
  },
  {
   "cell_type": "code",
   "execution_count": 13,
   "id": "64b02eb2",
   "metadata": {},
   "outputs": [],
   "source": [
    "# Adding the second connvolution layer\n",
    "cnn.add(tf.keras.layers.Conv2D(filters=64, kernel_size=3, activation='relu'))\n",
    "# Adding Batch Normalization layer\n",
    "cnn.add(tf.keras.layers.BatchNormalization())\n",
    "# Adding the second Pooling Layer\n",
    "cnn.add(tf.keras.layers.MaxPool2D(pool_size=2, strides=2))"
   ]
  },
  {
   "cell_type": "markdown",
   "id": "0bfc328c",
   "metadata": {},
   "source": [
    "> #### Creating the third Convolutional layer"
   ]
  },
  {
   "cell_type": "code",
   "execution_count": 14,
   "id": "bf53a179",
   "metadata": {},
   "outputs": [],
   "source": [
    "# Adding the third connvolution layer\n",
    "cnn.add(tf.keras.layers.Conv2D(filters=64, kernel_size=3, activation='relu'))\n",
    "# Adding Batch Normalization layer\n",
    "cnn.add(tf.keras.layers.BatchNormalization())\n",
    "# Adding the third Pooling Layer\n",
    "cnn.add(tf.keras.layers.MaxPool2D(pool_size=2, strides=2))"
   ]
  },
  {
   "cell_type": "markdown",
   "id": "ee5cbcd0",
   "metadata": {},
   "source": [
    "### Step 2 - Flattening the Output of Convolution Layer <br>"
   ]
  },
  {
   "cell_type": "code",
   "execution_count": 15,
   "id": "b2761dcd",
   "metadata": {},
   "outputs": [],
   "source": [
    "# Flatteining the output of convolution layer\n",
    "cnn.add(tf.keras.layers.Flatten())"
   ]
  },
  {
   "cell_type": "markdown",
   "id": "9a3f282f",
   "metadata": {},
   "source": [
    "### Step 3 - Adding Full Connection and Dropout Layer"
   ]
  },
  {
   "cell_type": "markdown",
   "id": "fca942e1",
   "metadata": {},
   "source": [
    "> #### - First Full Connection Layer with Dropout"
   ]
  },
  {
   "cell_type": "code",
   "execution_count": 16,
   "id": "1d6de4bb",
   "metadata": {},
   "outputs": [],
   "source": [
    "# Adding first full connection layer after flattening\n",
    "cnn.add(tf.keras.layers.Dense(units=128, activation='relu'))\n",
    "# Adding the dropout layer for first full connection layer \n",
    "cnn.add(tf.keras.layers.Dropout(rate=0.5)) "
   ]
  },
  {
   "cell_type": "markdown",
   "id": "dad0f96f",
   "metadata": {},
   "source": [
    "> #### - Second Full Connection Layer with Dropout"
   ]
  },
  {
   "cell_type": "code",
   "execution_count": 17,
   "id": "5e7d9ae7",
   "metadata": {},
   "outputs": [],
   "source": [
    "# Adding second full connection layer\n",
    "cnn.add(tf.keras.layers.Dense(units=128, activation='relu'))\n",
    "# Adding the dropout layer for second full connection layer\n",
    "cnn.add(tf.keras.layers.Dropout(rate=0.5)) "
   ]
  },
  {
   "cell_type": "markdown",
   "id": "33ccd2d2",
   "metadata": {},
   "source": [
    "### Step 4 - Adding Output Layer <br>"
   ]
  },
  {
   "cell_type": "code",
   "execution_count": 19,
   "id": "88e9022a",
   "metadata": {},
   "outputs": [],
   "source": [
    "# Adding the Output layer for image classification\n",
    "cnn.add(tf.keras.layers.Dense(units=6, activation='softmax'))"
   ]
  },
  {
   "cell_type": "markdown",
   "id": "b8d99f6d",
   "metadata": {},
   "source": [
    "## Part 3 - Creating Callback Functions"
   ]
  },
  {
   "cell_type": "code",
   "execution_count": 20,
   "id": "618dacc7",
   "metadata": {},
   "outputs": [],
   "source": [
    "# Adding Callbacks, e.g. ModelCheckpoints, earlystopping, csvlogger.\n",
    "from keras.callbacks import ModelCheckpoint, EarlyStopping, CSVLogger"
   ]
  },
  {
   "cell_type": "markdown",
   "id": "d8c40ebe",
   "metadata": {},
   "source": [
    "> #### ModelCheckpoint Callback"
   ]
  },
  {
   "cell_type": "code",
   "execution_count": 21,
   "id": "f146fc3c",
   "metadata": {},
   "outputs": [],
   "source": [
    "# ModelCheckpoint callback saves a model at some interval. \n",
    "#File name includes epoch and validation accuracy.\n",
    "filepath=\"D:\\\\Intel Image Dataset CNN Model\\\\Model_Performance\\\\saved_models\\\\weights-improvement-{epoch:02d}-{val_accuracy:.2f}.hdf5\" \n",
    "\n",
    "#Use Mode = max for accuracy and min for loss. \n",
    "checkpoint = ModelCheckpoint(filepath, monitor='val_accuracy', verbose=1, save_best_only=True, mode='max')"
   ]
  },
  {
   "cell_type": "markdown",
   "id": "20c24e8c",
   "metadata": {},
   "source": [
    "> #### EarlyStopping Callback"
   ]
  },
  {
   "cell_type": "code",
   "execution_count": 22,
   "id": "bbc65a9a",
   "metadata": {},
   "outputs": [],
   "source": [
    "# EarlyStopping callback will stop the training when there is no improvement in the \n",
    "# validation loss for fifteen consecutive epochs.\n",
    "early_stop = EarlyStopping(monitor='val_loss', patience=15, verbose=1)"
   ]
  },
  {
   "cell_type": "markdown",
   "id": "57259c4f",
   "metadata": {},
   "source": [
    "> #### CSVLogger Callback"
   ]
  },
  {
   "cell_type": "code",
   "execution_count": 23,
   "id": "ecf45071",
   "metadata": {},
   "outputs": [],
   "source": [
    "# CSVLogger logs epoch, acc, loss, val_acc, val_loss\n",
    "log_csv = CSVLogger('D:\\\\Intel Image Dataset CNN Model\\\\Model_Performance\\\\csv_logger\\\\Intel_CNN_Model_logs.csv',\n",
    "                    separator=',', append=False)"
   ]
  },
  {
   "cell_type": "markdown",
   "id": "4655461f",
   "metadata": {},
   "source": [
    " "
   ]
  },
  {
   "cell_type": "code",
   "execution_count": 24,
   "id": "675e3095",
   "metadata": {},
   "outputs": [],
   "source": [
    "# list of callbacks to be applied while training the model\n",
    "callbacks_list = [checkpoint, early_stop, log_csv]"
   ]
  },
  {
   "cell_type": "markdown",
   "id": "9c23888c",
   "metadata": {},
   "source": [
    "## Part 4 - Training the CNN"
   ]
  },
  {
   "cell_type": "markdown",
   "id": "992d915e",
   "metadata": {},
   "source": [
    "> ### Compiling the CNN Model <br>"
   ]
  },
  {
   "cell_type": "code",
   "execution_count": 25,
   "id": "038bd8de",
   "metadata": {},
   "outputs": [],
   "source": [
    "# Compiling the above build model\n",
    "cnn.compile(optimizer = 'adam', loss = 'categorical_crossentropy', metrics = ['accuracy'])"
   ]
  },
  {
   "cell_type": "markdown",
   "id": "10a02494",
   "metadata": {},
   "source": [
    "> ### Training the CNN Model on the Training set and Evaluating it on the Test Set <br>"
   ]
  },
  {
   "cell_type": "code",
   "execution_count": 26,
   "id": "3bb280ec",
   "metadata": {},
   "outputs": [],
   "source": [
    "# Defining the number of Epochs for model training\n",
    "No_Of_Epochs = 100"
   ]
  },
  {
   "cell_type": "code",
   "execution_count": 27,
   "id": "899f3337",
   "metadata": {},
   "outputs": [
    {
     "name": "stdout",
     "output_type": "stream",
     "text": [
      "Epoch 1/100\n",
      "438/439 [============================>.] - ETA: 0s - loss: 1.4429 - accuracy: 0.4601\n",
      "Epoch 1: val_accuracy improved from -inf to 0.57900, saving model to D:\\Intel Image Dataset CNN Model\\Model_Performance\\saved_models\\weights-improvement-01-0.58.hdf5\n",
      "439/439 [==============================] - 23s 45ms/step - loss: 1.4423 - accuracy: 0.4603 - val_loss: 1.1248 - val_accuracy: 0.5790\n",
      "Epoch 2/100\n",
      "438/439 [============================>.] - ETA: 0s - loss: 1.0789 - accuracy: 0.5885\n",
      "Epoch 2: val_accuracy improved from 0.57900 to 0.64733, saving model to D:\\Intel Image Dataset CNN Model\\Model_Performance\\saved_models\\weights-improvement-02-0.65.hdf5\n",
      "439/439 [==============================] - 18s 42ms/step - loss: 1.0790 - accuracy: 0.5884 - val_loss: 1.0161 - val_accuracy: 0.6473\n",
      "Epoch 3/100\n",
      "438/439 [============================>.] - ETA: 0s - loss: 0.9436 - accuracy: 0.6538\n",
      "Epoch 3: val_accuracy improved from 0.64733 to 0.71400, saving model to D:\\Intel Image Dataset CNN Model\\Model_Performance\\saved_models\\weights-improvement-03-0.71.hdf5\n",
      "439/439 [==============================] - 20s 45ms/step - loss: 0.9438 - accuracy: 0.6536 - val_loss: 0.8077 - val_accuracy: 0.7140\n",
      "Epoch 4/100\n",
      "439/439 [==============================] - ETA: 0s - loss: 0.8541 - accuracy: 0.6973\n",
      "Epoch 4: val_accuracy did not improve from 0.71400\n",
      "439/439 [==============================] - 18s 42ms/step - loss: 0.8541 - accuracy: 0.6973 - val_loss: 1.5091 - val_accuracy: 0.4340\n",
      "Epoch 5/100\n",
      "438/439 [============================>.] - ETA: 0s - loss: 0.7804 - accuracy: 0.7295\n",
      "Epoch 5: val_accuracy did not improve from 0.71400\n",
      "439/439 [==============================] - 17s 38ms/step - loss: 0.7803 - accuracy: 0.7294 - val_loss: 1.5633 - val_accuracy: 0.5680\n",
      "Epoch 6/100\n",
      "438/439 [============================>.] - ETA: 0s - loss: 0.7437 - accuracy: 0.7397\n",
      "Epoch 6: val_accuracy did not improve from 0.71400\n",
      "439/439 [==============================] - 18s 41ms/step - loss: 0.7431 - accuracy: 0.7400 - val_loss: 0.8529 - val_accuracy: 0.6720\n",
      "Epoch 7/100\n",
      "438/439 [============================>.] - ETA: 0s - loss: 0.7036 - accuracy: 0.7603\n",
      "Epoch 7: val_accuracy did not improve from 0.71400\n",
      "439/439 [==============================] - 19s 43ms/step - loss: 0.7028 - accuracy: 0.7607 - val_loss: 0.8458 - val_accuracy: 0.6710\n",
      "Epoch 8/100\n",
      "438/439 [============================>.] - ETA: 0s - loss: 0.6743 - accuracy: 0.7745\n",
      "Epoch 8: val_accuracy improved from 0.71400 to 0.74700, saving model to D:\\Intel Image Dataset CNN Model\\Model_Performance\\saved_models\\weights-improvement-08-0.75.hdf5\n",
      "439/439 [==============================] - 18s 42ms/step - loss: 0.6736 - accuracy: 0.7746 - val_loss: 0.7261 - val_accuracy: 0.7470\n",
      "Epoch 9/100\n",
      "439/439 [==============================] - ETA: 0s - loss: 0.6447 - accuracy: 0.7799\n",
      "Epoch 9: val_accuracy did not improve from 0.74700\n",
      "439/439 [==============================] - 18s 41ms/step - loss: 0.6447 - accuracy: 0.7799 - val_loss: 0.7555 - val_accuracy: 0.7420\n",
      "Epoch 10/100\n",
      "438/439 [============================>.] - ETA: 0s - loss: 0.6103 - accuracy: 0.7936\n",
      "Epoch 10: val_accuracy improved from 0.74700 to 0.78900, saving model to D:\\Intel Image Dataset CNN Model\\Model_Performance\\saved_models\\weights-improvement-10-0.79.hdf5\n",
      "439/439 [==============================] - 18s 41ms/step - loss: 0.6099 - accuracy: 0.7937 - val_loss: 0.5954 - val_accuracy: 0.7890\n",
      "Epoch 11/100\n",
      "438/439 [============================>.] - ETA: 0s - loss: 0.5972 - accuracy: 0.7946\n",
      "Epoch 11: val_accuracy did not improve from 0.78900\n",
      "439/439 [==============================] - 19s 42ms/step - loss: 0.5972 - accuracy: 0.7946 - val_loss: 0.7027 - val_accuracy: 0.7530\n",
      "Epoch 12/100\n",
      "438/439 [============================>.] - ETA: 0s - loss: 0.5815 - accuracy: 0.8023\n",
      "Epoch 12: val_accuracy did not improve from 0.78900\n",
      "439/439 [==============================] - 17s 39ms/step - loss: 0.5818 - accuracy: 0.8023 - val_loss: 0.7284 - val_accuracy: 0.7373\n",
      "Epoch 13/100\n",
      "438/439 [============================>.] - ETA: 0s - loss: 0.5638 - accuracy: 0.8082\n",
      "Epoch 13: val_accuracy improved from 0.78900 to 0.80900, saving model to D:\\Intel Image Dataset CNN Model\\Model_Performance\\saved_models\\weights-improvement-13-0.81.hdf5\n",
      "439/439 [==============================] - 17s 39ms/step - loss: 0.5635 - accuracy: 0.8081 - val_loss: 0.5686 - val_accuracy: 0.8090\n",
      "Epoch 14/100\n",
      "438/439 [============================>.] - ETA: 0s - loss: 0.5574 - accuracy: 0.8089\n",
      "Epoch 14: val_accuracy did not improve from 0.80900\n",
      "439/439 [==============================] - 17s 38ms/step - loss: 0.5576 - accuracy: 0.8090 - val_loss: 0.6107 - val_accuracy: 0.7983\n",
      "Epoch 15/100\n",
      "439/439 [==============================] - ETA: 0s - loss: 0.5543 - accuracy: 0.8123\n",
      "Epoch 15: val_accuracy did not improve from 0.80900\n",
      "439/439 [==============================] - 17s 38ms/step - loss: 0.5543 - accuracy: 0.8123 - val_loss: 0.6200 - val_accuracy: 0.7817\n",
      "Epoch 16/100\n",
      "438/439 [============================>.] - ETA: 0s - loss: 0.5166 - accuracy: 0.8221\n",
      "Epoch 16: val_accuracy did not improve from 0.80900\n",
      "439/439 [==============================] - 17s 38ms/step - loss: 0.5163 - accuracy: 0.8222 - val_loss: 1.2139 - val_accuracy: 0.6410\n",
      "Epoch 17/100\n",
      "438/439 [============================>.] - ETA: 0s - loss: 0.5131 - accuracy: 0.8220\n",
      "Epoch 17: val_accuracy improved from 0.80900 to 0.82600, saving model to D:\\Intel Image Dataset CNN Model\\Model_Performance\\saved_models\\weights-improvement-17-0.83.hdf5\n",
      "439/439 [==============================] - 17s 39ms/step - loss: 0.5129 - accuracy: 0.8219 - val_loss: 0.5341 - val_accuracy: 0.8260\n",
      "Epoch 18/100\n",
      "439/439 [==============================] - ETA: 0s - loss: 0.5112 - accuracy: 0.8285\n",
      "Epoch 18: val_accuracy did not improve from 0.82600\n",
      "439/439 [==============================] - 17s 38ms/step - loss: 0.5112 - accuracy: 0.8285 - val_loss: 0.6707 - val_accuracy: 0.7693\n",
      "Epoch 19/100\n",
      "438/439 [============================>.] - ETA: 0s - loss: 0.5022 - accuracy: 0.8290\n",
      "Epoch 19: val_accuracy did not improve from 0.82600\n",
      "439/439 [==============================] - 17s 39ms/step - loss: 0.5025 - accuracy: 0.8290 - val_loss: 0.5176 - val_accuracy: 0.8160\n",
      "Epoch 20/100\n",
      "438/439 [============================>.] - ETA: 0s - loss: 0.4760 - accuracy: 0.8360\n",
      "Epoch 20: val_accuracy did not improve from 0.82600\n",
      "439/439 [==============================] - 18s 41ms/step - loss: 0.4768 - accuracy: 0.8358 - val_loss: 0.6370 - val_accuracy: 0.7827\n",
      "Epoch 21/100\n",
      "439/439 [==============================] - ETA: 0s - loss: 0.4890 - accuracy: 0.8350\n",
      "Epoch 21: val_accuracy did not improve from 0.82600\n",
      "439/439 [==============================] - 19s 43ms/step - loss: 0.4890 - accuracy: 0.8350 - val_loss: 0.5243 - val_accuracy: 0.8183\n",
      "Epoch 22/100\n",
      "438/439 [============================>.] - ETA: 0s - loss: 0.4803 - accuracy: 0.8385\n",
      "Epoch 22: val_accuracy did not improve from 0.82600\n",
      "439/439 [==============================] - 18s 42ms/step - loss: 0.4803 - accuracy: 0.8383 - val_loss: 0.5115 - val_accuracy: 0.8140\n",
      "Epoch 23/100\n",
      "438/439 [============================>.] - ETA: 0s - loss: 0.4545 - accuracy: 0.8464\n",
      "Epoch 23: val_accuracy did not improve from 0.82600\n",
      "439/439 [==============================] - 18s 40ms/step - loss: 0.4549 - accuracy: 0.8464 - val_loss: 0.5424 - val_accuracy: 0.8040\n",
      "Epoch 24/100\n",
      "438/439 [============================>.] - ETA: 0s - loss: 0.4547 - accuracy: 0.8452\n",
      "Epoch 24: val_accuracy did not improve from 0.82600\n",
      "439/439 [==============================] - 17s 38ms/step - loss: 0.4551 - accuracy: 0.8451 - val_loss: 0.7152 - val_accuracy: 0.7553\n",
      "Epoch 25/100\n",
      "438/439 [============================>.] - ETA: 0s - loss: 0.4527 - accuracy: 0.8477\n",
      "Epoch 25: val_accuracy did not improve from 0.82600\n",
      "439/439 [==============================] - 18s 41ms/step - loss: 0.4525 - accuracy: 0.8478 - val_loss: 0.7249 - val_accuracy: 0.7587\n",
      "Epoch 26/100\n",
      "439/439 [==============================] - ETA: 0s - loss: 0.4370 - accuracy: 0.8482\n",
      "Epoch 26: val_accuracy did not improve from 0.82600\n",
      "439/439 [==============================] - 17s 38ms/step - loss: 0.4370 - accuracy: 0.8482 - val_loss: 0.6672 - val_accuracy: 0.8023\n",
      "Epoch 27/100\n"
     ]
    },
    {
     "name": "stdout",
     "output_type": "stream",
     "text": [
      "439/439 [==============================] - ETA: 0s - loss: 0.4434 - accuracy: 0.8482\n",
      "Epoch 27: val_accuracy did not improve from 0.82600\n",
      "439/439 [==============================] - 17s 38ms/step - loss: 0.4434 - accuracy: 0.8482 - val_loss: 0.6841 - val_accuracy: 0.7490\n",
      "Epoch 28/100\n",
      "439/439 [==============================] - ETA: 0s - loss: 0.4195 - accuracy: 0.8581\n",
      "Epoch 28: val_accuracy did not improve from 0.82600\n",
      "439/439 [==============================] - 17s 38ms/step - loss: 0.4195 - accuracy: 0.8581 - val_loss: 0.5225 - val_accuracy: 0.8173\n",
      "Epoch 29/100\n",
      "438/439 [============================>.] - ETA: 0s - loss: 0.4223 - accuracy: 0.8559\n",
      "Epoch 29: val_accuracy improved from 0.82600 to 0.82967, saving model to D:\\Intel Image Dataset CNN Model\\Model_Performance\\saved_models\\weights-improvement-29-0.83.hdf5\n",
      "439/439 [==============================] - 17s 40ms/step - loss: 0.4221 - accuracy: 0.8559 - val_loss: 0.4709 - val_accuracy: 0.8297\n",
      "Epoch 30/100\n",
      "438/439 [============================>.] - ETA: 0s - loss: 0.4139 - accuracy: 0.8596\n",
      "Epoch 30: val_accuracy did not improve from 0.82967\n",
      "439/439 [==============================] - 18s 42ms/step - loss: 0.4140 - accuracy: 0.8595 - val_loss: 0.6893 - val_accuracy: 0.7620\n",
      "Epoch 31/100\n",
      "438/439 [============================>.] - ETA: 0s - loss: 0.4092 - accuracy: 0.8589\n",
      "Epoch 31: val_accuracy did not improve from 0.82967\n",
      "439/439 [==============================] - 18s 42ms/step - loss: 0.4086 - accuracy: 0.8591 - val_loss: 0.5840 - val_accuracy: 0.8033\n",
      "Epoch 32/100\n",
      "439/439 [==============================] - ETA: 0s - loss: 0.4027 - accuracy: 0.8638\n",
      "Epoch 32: val_accuracy improved from 0.82967 to 0.83867, saving model to D:\\Intel Image Dataset CNN Model\\Model_Performance\\saved_models\\weights-improvement-32-0.84.hdf5\n",
      "439/439 [==============================] - 17s 38ms/step - loss: 0.4027 - accuracy: 0.8638 - val_loss: 0.4608 - val_accuracy: 0.8387\n",
      "Epoch 33/100\n",
      "439/439 [==============================] - ETA: 0s - loss: 0.3970 - accuracy: 0.8646\n",
      "Epoch 33: val_accuracy did not improve from 0.83867\n",
      "439/439 [==============================] - 17s 38ms/step - loss: 0.3970 - accuracy: 0.8646 - val_loss: 0.5176 - val_accuracy: 0.8307\n",
      "Epoch 34/100\n",
      "439/439 [==============================] - ETA: 0s - loss: 0.3946 - accuracy: 0.8625\n",
      "Epoch 34: val_accuracy did not improve from 0.83867\n",
      "439/439 [==============================] - 19s 42ms/step - loss: 0.3946 - accuracy: 0.8625 - val_loss: 0.4853 - val_accuracy: 0.8357\n",
      "Epoch 35/100\n",
      "438/439 [============================>.] - ETA: 0s - loss: 0.3958 - accuracy: 0.8664\n",
      "Epoch 35: val_accuracy did not improve from 0.83867\n",
      "439/439 [==============================] - 17s 38ms/step - loss: 0.3953 - accuracy: 0.8667 - val_loss: 0.7232 - val_accuracy: 0.7670\n",
      "Epoch 36/100\n",
      "439/439 [==============================] - ETA: 0s - loss: 0.3852 - accuracy: 0.8669\n",
      "Epoch 36: val_accuracy did not improve from 0.83867\n",
      "439/439 [==============================] - 17s 38ms/step - loss: 0.3852 - accuracy: 0.8669 - val_loss: 0.6536 - val_accuracy: 0.7823\n",
      "Epoch 37/100\n",
      "438/439 [============================>.] - ETA: 0s - loss: 0.3798 - accuracy: 0.8682\n",
      "Epoch 37: val_accuracy did not improve from 0.83867\n",
      "439/439 [==============================] - 18s 41ms/step - loss: 0.3797 - accuracy: 0.8682 - val_loss: 0.7120 - val_accuracy: 0.7653\n",
      "Epoch 38/100\n",
      "439/439 [==============================] - ETA: 0s - loss: 0.3743 - accuracy: 0.8712\n",
      "Epoch 38: val_accuracy did not improve from 0.83867\n",
      "439/439 [==============================] - 17s 39ms/step - loss: 0.3743 - accuracy: 0.8712 - val_loss: 0.5439 - val_accuracy: 0.8253\n",
      "Epoch 39/100\n",
      "438/439 [============================>.] - ETA: 0s - loss: 0.3744 - accuracy: 0.8742\n",
      "Epoch 39: val_accuracy did not improve from 0.83867\n",
      "439/439 [==============================] - 17s 39ms/step - loss: 0.3742 - accuracy: 0.8743 - val_loss: 0.5654 - val_accuracy: 0.8130\n",
      "Epoch 40/100\n",
      "439/439 [==============================] - ETA: 0s - loss: 0.3739 - accuracy: 0.8751\n",
      "Epoch 40: val_accuracy did not improve from 0.83867\n",
      "439/439 [==============================] - 17s 38ms/step - loss: 0.3739 - accuracy: 0.8751 - val_loss: 0.5336 - val_accuracy: 0.8137\n",
      "Epoch 41/100\n",
      "438/439 [============================>.] - ETA: 0s - loss: 0.3725 - accuracy: 0.8709\n",
      "Epoch 41: val_accuracy did not improve from 0.83867\n",
      "439/439 [==============================] - 17s 38ms/step - loss: 0.3727 - accuracy: 0.8710 - val_loss: 0.5735 - val_accuracy: 0.7950\n",
      "Epoch 42/100\n",
      "438/439 [============================>.] - ETA: 0s - loss: 0.3590 - accuracy: 0.8761\n",
      "Epoch 42: val_accuracy improved from 0.83867 to 0.85367, saving model to D:\\Intel Image Dataset CNN Model\\Model_Performance\\saved_models\\weights-improvement-42-0.85.hdf5\n",
      "439/439 [==============================] - 18s 41ms/step - loss: 0.3593 - accuracy: 0.8760 - val_loss: 0.4380 - val_accuracy: 0.8537\n",
      "Epoch 43/100\n",
      "438/439 [============================>.] - ETA: 0s - loss: 0.3612 - accuracy: 0.8768\n",
      "Epoch 43: val_accuracy did not improve from 0.85367\n",
      "439/439 [==============================] - 17s 38ms/step - loss: 0.3608 - accuracy: 0.8769 - val_loss: 0.4476 - val_accuracy: 0.8517\n",
      "Epoch 44/100\n",
      "439/439 [==============================] - ETA: 0s - loss: 0.3627 - accuracy: 0.8790\n",
      "Epoch 44: val_accuracy did not improve from 0.85367\n",
      "439/439 [==============================] - 17s 38ms/step - loss: 0.3627 - accuracy: 0.8790 - val_loss: 0.4558 - val_accuracy: 0.8480\n",
      "Epoch 45/100\n",
      "439/439 [==============================] - ETA: 0s - loss: 0.3474 - accuracy: 0.8800\n",
      "Epoch 45: val_accuracy did not improve from 0.85367\n",
      "439/439 [==============================] - 17s 38ms/step - loss: 0.3474 - accuracy: 0.8800 - val_loss: 0.5116 - val_accuracy: 0.8297\n",
      "Epoch 46/100\n",
      "438/439 [============================>.] - ETA: 0s - loss: 0.3452 - accuracy: 0.8851\n",
      "Epoch 46: val_accuracy did not improve from 0.85367\n",
      "439/439 [==============================] - 17s 38ms/step - loss: 0.3453 - accuracy: 0.8851 - val_loss: 0.5921 - val_accuracy: 0.7907\n",
      "Epoch 47/100\n",
      "438/439 [============================>.] - ETA: 0s - loss: 0.3424 - accuracy: 0.8841\n",
      "Epoch 47: val_accuracy did not improve from 0.85367\n",
      "439/439 [==============================] - 17s 38ms/step - loss: 0.3425 - accuracy: 0.8841 - val_loss: 0.5239 - val_accuracy: 0.8257\n",
      "Epoch 48/100\n",
      "438/439 [============================>.] - ETA: 0s - loss: 0.3266 - accuracy: 0.8892\n",
      "Epoch 48: val_accuracy did not improve from 0.85367\n",
      "439/439 [==============================] - 17s 38ms/step - loss: 0.3266 - accuracy: 0.8891 - val_loss: 0.4898 - val_accuracy: 0.8410\n",
      "Epoch 49/100\n",
      "439/439 [==============================] - ETA: 0s - loss: 0.3510 - accuracy: 0.8806\n",
      "Epoch 49: val_accuracy did not improve from 0.85367\n",
      "439/439 [==============================] - 17s 38ms/step - loss: 0.3510 - accuracy: 0.8806 - val_loss: 0.8884 - val_accuracy: 0.7443\n",
      "Epoch 50/100\n",
      "438/439 [============================>.] - ETA: 0s - loss: 0.3327 - accuracy: 0.8861\n",
      "Epoch 50: val_accuracy did not improve from 0.85367\n",
      "439/439 [==============================] - 17s 38ms/step - loss: 0.3329 - accuracy: 0.8858 - val_loss: 0.5474 - val_accuracy: 0.8277\n",
      "Epoch 51/100\n",
      "438/439 [============================>.] - ETA: 0s - loss: 0.3303 - accuracy: 0.8888\n",
      "Epoch 51: val_accuracy improved from 0.85367 to 0.85700, saving model to D:\\Intel Image Dataset CNN Model\\Model_Performance\\saved_models\\weights-improvement-51-0.86.hdf5\n",
      "439/439 [==============================] - 17s 38ms/step - loss: 0.3303 - accuracy: 0.8888 - val_loss: 0.4348 - val_accuracy: 0.8570\n",
      "Epoch 52/100\n",
      "438/439 [============================>.] - ETA: 0s - loss: 0.3265 - accuracy: 0.8904\n",
      "Epoch 52: val_accuracy improved from 0.85700 to 0.86367, saving model to D:\\Intel Image Dataset CNN Model\\Model_Performance\\saved_models\\weights-improvement-52-0.86.hdf5\n",
      "439/439 [==============================] - 17s 38ms/step - loss: 0.3262 - accuracy: 0.8905 - val_loss: 0.4109 - val_accuracy: 0.8637\n",
      "Epoch 53/100\n",
      "439/439 [==============================] - ETA: 0s - loss: 0.3203 - accuracy: 0.8907\n",
      "Epoch 53: val_accuracy did not improve from 0.86367\n",
      "439/439 [==============================] - 17s 39ms/step - loss: 0.3203 - accuracy: 0.8907 - val_loss: 0.5293 - val_accuracy: 0.8257\n"
     ]
    },
    {
     "name": "stdout",
     "output_type": "stream",
     "text": [
      "Epoch 54/100\n",
      "439/439 [==============================] - ETA: 0s - loss: 0.3264 - accuracy: 0.8854\n",
      "Epoch 54: val_accuracy did not improve from 0.86367\n",
      "439/439 [==============================] - 17s 38ms/step - loss: 0.3264 - accuracy: 0.8854 - val_loss: 0.4894 - val_accuracy: 0.8457\n",
      "Epoch 55/100\n",
      "439/439 [==============================] - ETA: 0s - loss: 0.3212 - accuracy: 0.8902\n",
      "Epoch 55: val_accuracy did not improve from 0.86367\n",
      "439/439 [==============================] - 17s 38ms/step - loss: 0.3212 - accuracy: 0.8902 - val_loss: 0.5730 - val_accuracy: 0.8040\n",
      "Epoch 56/100\n",
      "439/439 [==============================] - ETA: 0s - loss: 0.3086 - accuracy: 0.8933\n",
      "Epoch 56: val_accuracy did not improve from 0.86367\n",
      "439/439 [==============================] - 17s 39ms/step - loss: 0.3086 - accuracy: 0.8933 - val_loss: 0.5152 - val_accuracy: 0.8377\n",
      "Epoch 57/100\n",
      "439/439 [==============================] - ETA: 0s - loss: 0.3116 - accuracy: 0.8920\n",
      "Epoch 57: val_accuracy did not improve from 0.86367\n",
      "439/439 [==============================] - 19s 43ms/step - loss: 0.3116 - accuracy: 0.8920 - val_loss: 0.6468 - val_accuracy: 0.8083\n",
      "Epoch 58/100\n",
      "439/439 [==============================] - ETA: 0s - loss: 0.3196 - accuracy: 0.8941\n",
      "Epoch 58: val_accuracy did not improve from 0.86367\n",
      "439/439 [==============================] - 18s 41ms/step - loss: 0.3196 - accuracy: 0.8941 - val_loss: 0.5100 - val_accuracy: 0.8377\n",
      "Epoch 59/100\n",
      "439/439 [==============================] - ETA: 0s - loss: 0.3031 - accuracy: 0.8981\n",
      "Epoch 59: val_accuracy did not improve from 0.86367\n",
      "439/439 [==============================] - 18s 40ms/step - loss: 0.3031 - accuracy: 0.8981 - val_loss: 0.4530 - val_accuracy: 0.8523\n",
      "Epoch 60/100\n",
      "439/439 [==============================] - ETA: 0s - loss: 0.2968 - accuracy: 0.8956\n",
      "Epoch 60: val_accuracy did not improve from 0.86367\n",
      "439/439 [==============================] - 18s 41ms/step - loss: 0.2968 - accuracy: 0.8956 - val_loss: 0.5428 - val_accuracy: 0.8113\n",
      "Epoch 61/100\n",
      "439/439 [==============================] - ETA: 0s - loss: 0.3043 - accuracy: 0.8967\n",
      "Epoch 61: val_accuracy did not improve from 0.86367\n",
      "439/439 [==============================] - 18s 41ms/step - loss: 0.3043 - accuracy: 0.8967 - val_loss: 0.4199 - val_accuracy: 0.8623\n",
      "Epoch 62/100\n",
      "439/439 [==============================] - ETA: 0s - loss: 0.2994 - accuracy: 0.8958\n",
      "Epoch 62: val_accuracy did not improve from 0.86367\n",
      "439/439 [==============================] - 20s 46ms/step - loss: 0.2994 - accuracy: 0.8958 - val_loss: 0.4613 - val_accuracy: 0.8473\n",
      "Epoch 63/100\n",
      "438/439 [============================>.] - ETA: 0s - loss: 0.3033 - accuracy: 0.8947\n",
      "Epoch 63: val_accuracy did not improve from 0.86367\n",
      "439/439 [==============================] - 19s 43ms/step - loss: 0.3033 - accuracy: 0.8947 - val_loss: 0.4828 - val_accuracy: 0.8433\n",
      "Epoch 64/100\n",
      "438/439 [============================>.] - ETA: 0s - loss: 0.2962 - accuracy: 0.8969\n",
      "Epoch 64: val_accuracy did not improve from 0.86367\n",
      "439/439 [==============================] - 19s 43ms/step - loss: 0.2962 - accuracy: 0.8968 - val_loss: 0.4974 - val_accuracy: 0.8273\n",
      "Epoch 65/100\n",
      "439/439 [==============================] - ETA: 0s - loss: 0.2940 - accuracy: 0.8986\n",
      "Epoch 65: val_accuracy did not improve from 0.86367\n",
      "439/439 [==============================] - 18s 41ms/step - loss: 0.2940 - accuracy: 0.8986 - val_loss: 0.5216 - val_accuracy: 0.8450\n",
      "Epoch 66/100\n",
      "438/439 [============================>.] - ETA: 0s - loss: 0.2935 - accuracy: 0.8988\n",
      "Epoch 66: val_accuracy did not improve from 0.86367\n",
      "439/439 [==============================] - 18s 42ms/step - loss: 0.2940 - accuracy: 0.8987 - val_loss: 0.5499 - val_accuracy: 0.8357\n",
      "Epoch 67/100\n",
      "439/439 [==============================] - ETA: 0s - loss: 0.2887 - accuracy: 0.9003\n",
      "Epoch 67: val_accuracy did not improve from 0.86367\n",
      "439/439 [==============================] - 19s 42ms/step - loss: 0.2887 - accuracy: 0.9003 - val_loss: 0.6427 - val_accuracy: 0.7997\n",
      "Epoch 67: early stopping\n"
     ]
    },
    {
     "data": {
      "text/plain": [
       "<keras.callbacks.History at 0x2d136b8f430>"
      ]
     },
     "execution_count": 27,
     "metadata": {},
     "output_type": "execute_result"
    }
   ],
   "source": [
    "# Training the model using fit function on Training Set and calculating the model accuracy on Test Set\n",
    "cnn.fit(x = training_set, validation_data = test_set, epochs = No_Of_Epochs,callbacks=callbacks_list)"
   ]
  },
  {
   "cell_type": "markdown",
   "id": "95e139f5",
   "metadata": {},
   "source": [
    ">> Early Stopping was implemented at Epoch-67 as Validation Accuracy was not improving.<br> The Best Performing Model has Accuracy of 86.367% in Epoch 52."
   ]
  },
  {
   "cell_type": "markdown",
   "id": "d84a6b73",
   "metadata": {},
   "source": [
    "> #### Summary of CNN Model"
   ]
  },
  {
   "cell_type": "code",
   "execution_count": 28,
   "id": "7fbca737",
   "metadata": {},
   "outputs": [
    {
     "name": "stdout",
     "output_type": "stream",
     "text": [
      "Model: \"sequential\"\n",
      "_________________________________________________________________\n",
      " Layer (type)                Output Shape              Param #   \n",
      "=================================================================\n",
      " conv2d (Conv2D)             (None, 62, 62, 64)        1792      \n",
      "                                                                 \n",
      " batch_normalization (BatchN  (None, 62, 62, 64)       256       \n",
      " ormalization)                                                   \n",
      "                                                                 \n",
      " max_pooling2d (MaxPooling2D  (None, 31, 31, 64)       0         \n",
      " )                                                               \n",
      "                                                                 \n",
      " conv2d_1 (Conv2D)           (None, 29, 29, 64)        36928     \n",
      "                                                                 \n",
      " batch_normalization_1 (Batc  (None, 29, 29, 64)       256       \n",
      " hNormalization)                                                 \n",
      "                                                                 \n",
      " max_pooling2d_1 (MaxPooling  (None, 14, 14, 64)       0         \n",
      " 2D)                                                             \n",
      "                                                                 \n",
      " conv2d_2 (Conv2D)           (None, 12, 12, 64)        36928     \n",
      "                                                                 \n",
      " batch_normalization_2 (Batc  (None, 12, 12, 64)       256       \n",
      " hNormalization)                                                 \n",
      "                                                                 \n",
      " max_pooling2d_2 (MaxPooling  (None, 6, 6, 64)         0         \n",
      " 2D)                                                             \n",
      "                                                                 \n",
      " flatten (Flatten)           (None, 2304)              0         \n",
      "                                                                 \n",
      " dense (Dense)               (None, 128)               295040    \n",
      "                                                                 \n",
      " dropout (Dropout)           (None, 128)               0         \n",
      "                                                                 \n",
      " dense_1 (Dense)             (None, 128)               16512     \n",
      "                                                                 \n",
      " dropout_1 (Dropout)         (None, 128)               0         \n",
      "                                                                 \n",
      " dense_2 (Dense)             (None, 6)                 774       \n",
      "                                                                 \n",
      "=================================================================\n",
      "Total params: 388,742\n",
      "Trainable params: 388,358\n",
      "Non-trainable params: 384\n",
      "_________________________________________________________________\n"
     ]
    }
   ],
   "source": [
    "# Model Summary\n",
    "cnn.summary()"
   ]
  },
  {
   "cell_type": "markdown",
   "id": "0cf0c4a5",
   "metadata": {},
   "source": [
    "## Part 5 - Evaluating Model Performance <br>"
   ]
  },
  {
   "cell_type": "code",
   "execution_count": 29,
   "id": "3a63d0f2",
   "metadata": {},
   "outputs": [
    {
     "data": {
      "text/html": [
       "<div>\n",
       "<style scoped>\n",
       "    .dataframe tbody tr th:only-of-type {\n",
       "        vertical-align: middle;\n",
       "    }\n",
       "\n",
       "    .dataframe tbody tr th {\n",
       "        vertical-align: top;\n",
       "    }\n",
       "\n",
       "    .dataframe thead th {\n",
       "        text-align: right;\n",
       "    }\n",
       "</style>\n",
       "<table border=\"1\" class=\"dataframe\">\n",
       "  <thead>\n",
       "    <tr style=\"text-align: right;\">\n",
       "      <th></th>\n",
       "      <th>epoch</th>\n",
       "      <th>accuracy</th>\n",
       "      <th>loss</th>\n",
       "      <th>val_accuracy</th>\n",
       "      <th>val_loss</th>\n",
       "    </tr>\n",
       "  </thead>\n",
       "  <tbody>\n",
       "    <tr>\n",
       "      <th>0</th>\n",
       "      <td>0</td>\n",
       "      <td>0.460311</td>\n",
       "      <td>1.442316</td>\n",
       "      <td>0.579000</td>\n",
       "      <td>1.124810</td>\n",
       "    </tr>\n",
       "    <tr>\n",
       "      <th>1</th>\n",
       "      <td>1</td>\n",
       "      <td>0.588428</td>\n",
       "      <td>1.078968</td>\n",
       "      <td>0.647333</td>\n",
       "      <td>1.016109</td>\n",
       "    </tr>\n",
       "    <tr>\n",
       "      <th>2</th>\n",
       "      <td>2</td>\n",
       "      <td>0.653627</td>\n",
       "      <td>0.943753</td>\n",
       "      <td>0.714000</td>\n",
       "      <td>0.807668</td>\n",
       "    </tr>\n",
       "    <tr>\n",
       "      <th>3</th>\n",
       "      <td>3</td>\n",
       "      <td>0.697307</td>\n",
       "      <td>0.854104</td>\n",
       "      <td>0.434000</td>\n",
       "      <td>1.509102</td>\n",
       "    </tr>\n",
       "    <tr>\n",
       "      <th>4</th>\n",
       "      <td>4</td>\n",
       "      <td>0.729443</td>\n",
       "      <td>0.780301</td>\n",
       "      <td>0.568000</td>\n",
       "      <td>1.563337</td>\n",
       "    </tr>\n",
       "    <tr>\n",
       "      <th>...</th>\n",
       "      <td>...</td>\n",
       "      <td>...</td>\n",
       "      <td>...</td>\n",
       "      <td>...</td>\n",
       "      <td>...</td>\n",
       "    </tr>\n",
       "    <tr>\n",
       "      <th>62</th>\n",
       "      <td>62</td>\n",
       "      <td>0.894684</td>\n",
       "      <td>0.303314</td>\n",
       "      <td>0.843333</td>\n",
       "      <td>0.482770</td>\n",
       "    </tr>\n",
       "    <tr>\n",
       "      <th>63</th>\n",
       "      <td>63</td>\n",
       "      <td>0.896822</td>\n",
       "      <td>0.296153</td>\n",
       "      <td>0.827333</td>\n",
       "      <td>0.497358</td>\n",
       "    </tr>\n",
       "    <tr>\n",
       "      <th>64</th>\n",
       "      <td>64</td>\n",
       "      <td>0.898603</td>\n",
       "      <td>0.293976</td>\n",
       "      <td>0.845000</td>\n",
       "      <td>0.521551</td>\n",
       "    </tr>\n",
       "    <tr>\n",
       "      <th>65</th>\n",
       "      <td>65</td>\n",
       "      <td>0.898675</td>\n",
       "      <td>0.294007</td>\n",
       "      <td>0.835667</td>\n",
       "      <td>0.549876</td>\n",
       "    </tr>\n",
       "    <tr>\n",
       "      <th>66</th>\n",
       "      <td>66</td>\n",
       "      <td>0.900313</td>\n",
       "      <td>0.288682</td>\n",
       "      <td>0.799667</td>\n",
       "      <td>0.642666</td>\n",
       "    </tr>\n",
       "  </tbody>\n",
       "</table>\n",
       "<p>67 rows × 5 columns</p>\n",
       "</div>"
      ],
      "text/plain": [
       "    epoch  accuracy      loss  val_accuracy  val_loss\n",
       "0       0  0.460311  1.442316      0.579000  1.124810\n",
       "1       1  0.588428  1.078968      0.647333  1.016109\n",
       "2       2  0.653627  0.943753      0.714000  0.807668\n",
       "3       3  0.697307  0.854104      0.434000  1.509102\n",
       "4       4  0.729443  0.780301      0.568000  1.563337\n",
       "..    ...       ...       ...           ...       ...\n",
       "62     62  0.894684  0.303314      0.843333  0.482770\n",
       "63     63  0.896822  0.296153      0.827333  0.497358\n",
       "64     64  0.898603  0.293976      0.845000  0.521551\n",
       "65     65  0.898675  0.294007      0.835667  0.549876\n",
       "66     66  0.900313  0.288682      0.799667  0.642666\n",
       "\n",
       "[67 rows x 5 columns]"
      ]
     },
     "execution_count": 29,
     "metadata": {},
     "output_type": "execute_result"
    }
   ],
   "source": [
    "# loading the CSVlogger callback file\n",
    "model_log = pd.read_csv('D:\\\\Intel Image Dataset CNN Model\\\\Model_Performance\\\\csv_logger\\\\Intel_CNN_Model_logs.csv')\n",
    "model_log"
   ]
  },
  {
   "cell_type": "markdown",
   "id": "1bddabfc",
   "metadata": {},
   "source": [
    "> #### Plotting Accuraracy and Loss for Training and Test sets"
   ]
  },
  {
   "cell_type": "code",
   "execution_count": 38,
   "id": "f939051a",
   "metadata": {},
   "outputs": [
    {
     "data": {
      "image/png": "[encoded data removed]",
      "text/plain": [
       "<Figure size 1500x500 with 2 Axes>"
      ]
     },
     "metadata": {},
     "output_type": "display_data"
    }
   ],
   "source": [
    "fig , axis = plt.subplots(nrows = 1 , ncols = 2 ,figsize =(15,5) , dpi = 100)\n",
    "\n",
    "sns.lineplot(data=model_log, x=\"epoch\", y='accuracy',label='Training Accuracy',ax=axis[0])\n",
    "sns.lineplot(data=model_log, x=\"epoch\", y='val_accuracy',label='Test Accuracy',ax=axis[0])\n",
    "axis[0].set_title('Training Vs Test Accuracy')\n",
    "\n",
    "sns.lineplot(data=model_log, x=\"epoch\", y='loss',label='Training Loss',ax=axis[1])\n",
    "sns.lineplot(data=model_log, x=\"epoch\", y='val_loss',label='Test Loss',ax=axis[1])\n",
    "axis[1].set_title('Training Vs Test Loss') \n",
    "\n",
    "fig.suptitle('CNN Model Performance Plot', fontsize=18)\n",
    "plt.legend()\n",
    "plt.show()"
   ]
  },
  {
   "cell_type": "markdown",
   "id": "ff117ed4",
   "metadata": {},
   "source": [
    "### Conclusion:\n",
    ">Our CNN model achived the accuracy of 86.367 %.<br>There isn't much diffenece between the accuracy on Training Set and Test so we can confidently say that there is no Overfitting and as it is shown it performed well in the Test Set also."
   ]
  }
 ],
 "metadata": {
  "kernelspec": {
   "display_name": "Python 3 (ipykernel)",
   "language": "python",
   "name": "python3"
  },
  "language_info": {
   "codemirror_mode": {
    "name": "ipython",
    "version": 3
   },
   "file_extension": ".py",
   "mimetype": "text/x-python",
   "name": "python",
   "nbconvert_exporter": "python",
   "pygments_lexer": "ipython3",
   "version": "3.9.16"
  }
 },
 "nbformat": 4,
 "nbformat_minor": 5
}
